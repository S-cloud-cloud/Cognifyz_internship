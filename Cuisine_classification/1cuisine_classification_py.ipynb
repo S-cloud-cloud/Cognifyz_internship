{
  "nbformat": 4,
  "nbformat_minor": 0,
  "metadata": {
    "colab": {
      "provenance": []
    },
    "kernelspec": {
      "name": "python3",
      "display_name": "Python 3"
    },
    "language_info": {
      "name": "python"
    }
  },
  "cells": [
    {
      "cell_type": "markdown",
      "source": [
        "Objective: Develop a machine learning model to\n",
        "# classify restaurants based on their cuisines."
      ],
      "metadata": {
        "id": "n3dHK0hxP1wm"
      }
    },
    {
      "cell_type": "markdown",
      "source": [
        "USING RANDOM FOREST AND SVM"
      ],
      "metadata": {
        "id": "IhowZcfk9-wI"
      }
    },
    {
      "cell_type": "code",
      "source": [
        "#following code is provided considering the cusine column was to be encoded as a single label but the code for multilabel is also provided in\n",
        "#commented out lines"
      ],
      "metadata": {
        "id": "UCZ_Eq5DlTJ-"
      },
      "execution_count": 1,
      "outputs": []
    },
    {
      "cell_type": "code",
      "source": [
        "#import libraries\n",
        "#for calculations\n",
        "import numpy as np\n",
        "#for handling data : missing values ,etc\n",
        "#data manipulation and analysis. : pd\n",
        "import pandas as pd\n",
        "\n",
        "\n"
      ],
      "metadata": {
        "id": "-oqpOobqRdKp"
      },
      "execution_count": null,
      "outputs": []
    },
    {
      "cell_type": "code",
      "source": [
        "!pip install Keras-Preprocessing\n",
        "import numpy as np\n",
        "#to create checkpoints for model using tenserflow tool instead of file uplodation\n",
        "from tensorflow.keras.callbacks import ModelCheckpoint"
      ],
      "metadata": {
        "id": "VI9wQy4LhWr0",
        "colab": {
          "base_uri": "https://localhost:8080/"
        },
        "outputId": "029ffb65-16d3-42c8-cfec-13474c902161"
      },
      "execution_count": null,
      "outputs": [
        {
          "output_type": "stream",
          "name": "stdout",
          "text": [
            "Collecting Keras-Preprocessing\n",
            "  Downloading Keras_Preprocessing-1.1.2-py2.py3-none-any.whl (42 kB)\n",
            "\u001b[?25l     \u001b[90m━━━━━━━━━━━━━━━━━━━━━━━━━━━━━━━━━━━━━━━━\u001b[0m \u001b[32m0.0/42.6 kB\u001b[0m \u001b[31m?\u001b[0m eta \u001b[36m-:--:--\u001b[0m\r\u001b[2K     \u001b[90m━━━━━━━━━━━━━━━━━━━━━━━━━━━━━━━━━━━━━━━━\u001b[0m \u001b[32m42.6/42.6 kB\u001b[0m \u001b[31m3.6 MB/s\u001b[0m eta \u001b[36m0:00:00\u001b[0m\n",
            "\u001b[?25hRequirement already satisfied: numpy>=1.9.1 in /usr/local/lib/python3.10/dist-packages (from Keras-Preprocessing) (1.25.2)\n",
            "Requirement already satisfied: six>=1.9.0 in /usr/local/lib/python3.10/dist-packages (from Keras-Preprocessing) (1.16.0)\n",
            "Installing collected packages: Keras-Preprocessing\n",
            "Successfully installed Keras-Preprocessing-1.1.2\n"
          ]
        }
      ]
    },
    {
      "cell_type": "markdown",
      "source": [
        "to read the CSV file loading it into collab.\n"
      ],
      "metadata": {
        "id": "VpG7lFRpPPlz"
      }
    },
    {
      "cell_type": "code",
      "source": [
        "#from google.colab import files\n",
        "#file = files.upload()\n",
        "#if not mounting google drive"
      ],
      "metadata": {
        "id": "EPGQ7v2VdteE"
      },
      "execution_count": null,
      "outputs": []
    },
    {
      "cell_type": "code",
      "source": [
        "#data = pd.read_csv('df.csv',engine='python',encoding='UTF-8')"
      ],
      "metadata": {
        "id": "Sj5ZIrHzeE1D"
      },
      "execution_count": null,
      "outputs": []
    },
    {
      "cell_type": "markdown",
      "source": [
        "to avoid reuploading every session:"
      ],
      "metadata": {
        "id": "oTSiar4tgcpm"
      }
    },
    {
      "cell_type": "code",
      "source": [
        "from google.colab import drive\n",
        "drive.mount('/content/drive')"
      ],
      "metadata": {
        "id": "O7ozk_dZfusf",
        "colab": {
          "base_uri": "https://localhost:8080/"
        },
        "outputId": "785b7817-3555-4894-f1db-c19d990c1a73"
      },
      "execution_count": null,
      "outputs": [
        {
          "output_type": "stream",
          "name": "stdout",
          "text": [
            "Mounted at /content/drive\n"
          ]
        }
      ]
    },
    {
      "cell_type": "code",
      "source": [
        "file='/content/drive/MyDrive/data_cognifyz/Dataset .csv'"
      ],
      "metadata": {
        "id": "a1y30QwUf3X7"
      },
      "execution_count": null,
      "outputs": []
    },
    {
      "cell_type": "code",
      "source": [
        "data1 = pd.read_csv('/content/drive/MyDrive/data_cognifyz/Dataset .csv')"
      ],
      "metadata": {
        "id": "l3DrxwF-gEed"
      },
      "execution_count": null,
      "outputs": []
    },
    {
      "cell_type": "code",
      "source": [
        "#total no of rows and columns\n",
        "data1.shape"
      ],
      "metadata": {
        "id": "k7I5vvIMkijk",
        "colab": {
          "base_uri": "https://localhost:8080/"
        },
        "outputId": "a36e84c8-c9a9-49de-a193-3dc800e2a612"
      },
      "execution_count": null,
      "outputs": [
        {
          "output_type": "execute_result",
          "data": {
            "text/plain": [
              "(9551, 21)"
            ]
          },
          "metadata": {},
          "execution_count": 8
        }
      ]
    },
    {
      "cell_type": "code",
      "source": [
        "#check null value exist or not\n",
        "data1.isnull()"
      ],
      "metadata": {
        "id": "IZzub6oplQzA",
        "colab": {
          "base_uri": "https://localhost:8080/",
          "height": 495
        },
        "outputId": "21c0c64a-b5cd-497d-e3db-0cfa07d81384"
      },
      "execution_count": null,
      "outputs": [
        {
          "output_type": "execute_result",
          "data": {
            "text/plain": [
              "      Restaurant ID  Restaurant Name  Country Code   City  Address  Locality  \\\n",
              "0             False            False         False  False    False     False   \n",
              "1             False            False         False  False    False     False   \n",
              "2             False            False         False  False    False     False   \n",
              "3             False            False         False  False    False     False   \n",
              "4             False            False         False  False    False     False   \n",
              "...             ...              ...           ...    ...      ...       ...   \n",
              "9546          False            False         False  False    False     False   \n",
              "9547          False            False         False  False    False     False   \n",
              "9548          False            False         False  False    False     False   \n",
              "9549          False            False         False  False    False     False   \n",
              "9550          False            False         False  False    False     False   \n",
              "\n",
              "      Locality Verbose  Longitude  Latitude  Cuisines  ...  Currency  \\\n",
              "0                False      False     False     False  ...     False   \n",
              "1                False      False     False     False  ...     False   \n",
              "2                False      False     False     False  ...     False   \n",
              "3                False      False     False     False  ...     False   \n",
              "4                False      False     False     False  ...     False   \n",
              "...                ...        ...       ...       ...  ...       ...   \n",
              "9546             False      False     False     False  ...     False   \n",
              "9547             False      False     False     False  ...     False   \n",
              "9548             False      False     False     False  ...     False   \n",
              "9549             False      False     False     False  ...     False   \n",
              "9550             False      False     False     False  ...     False   \n",
              "\n",
              "      Has Table booking  Has Online delivery  Is delivering now  \\\n",
              "0                 False                False              False   \n",
              "1                 False                False              False   \n",
              "2                 False                False              False   \n",
              "3                 False                False              False   \n",
              "4                 False                False              False   \n",
              "...                 ...                  ...                ...   \n",
              "9546              False                False              False   \n",
              "9547              False                False              False   \n",
              "9548              False                False              False   \n",
              "9549              False                False              False   \n",
              "9550              False                False              False   \n",
              "\n",
              "      Switch to order menu  Price range  Aggregate rating  Rating color  \\\n",
              "0                    False        False             False         False   \n",
              "1                    False        False             False         False   \n",
              "2                    False        False             False         False   \n",
              "3                    False        False             False         False   \n",
              "4                    False        False             False         False   \n",
              "...                    ...          ...               ...           ...   \n",
              "9546                 False        False             False         False   \n",
              "9547                 False        False             False         False   \n",
              "9548                 False        False             False         False   \n",
              "9549                 False        False             False         False   \n",
              "9550                 False        False             False         False   \n",
              "\n",
              "      Rating text  Votes  \n",
              "0           False  False  \n",
              "1           False  False  \n",
              "2           False  False  \n",
              "3           False  False  \n",
              "4           False  False  \n",
              "...           ...    ...  \n",
              "9546        False  False  \n",
              "9547        False  False  \n",
              "9548        False  False  \n",
              "9549        False  False  \n",
              "9550        False  False  \n",
              "\n",
              "[9551 rows x 21 columns]"
            ],
            "text/html": [
              "\n",
              "  <div id=\"df-0a79b3e5-bd02-4c02-a4c7-ca30dea532d7\" class=\"colab-df-container\">\n",
              "    <div>\n",
              "<style scoped>\n",
              "    .dataframe tbody tr th:only-of-type {\n",
              "        vertical-align: middle;\n",
              "    }\n",
              "\n",
              "    .dataframe tbody tr th {\n",
              "        vertical-align: top;\n",
              "    }\n",
              "\n",
              "    .dataframe thead th {\n",
              "        text-align: right;\n",
              "    }\n",
              "</style>\n",
              "<table border=\"1\" class=\"dataframe\">\n",
              "  <thead>\n",
              "    <tr style=\"text-align: right;\">\n",
              "      <th></th>\n",
              "      <th>Restaurant ID</th>\n",
              "      <th>Restaurant Name</th>\n",
              "      <th>Country Code</th>\n",
              "      <th>City</th>\n",
              "      <th>Address</th>\n",
              "      <th>Locality</th>\n",
              "      <th>Locality Verbose</th>\n",
              "      <th>Longitude</th>\n",
              "      <th>Latitude</th>\n",
              "      <th>Cuisines</th>\n",
              "      <th>...</th>\n",
              "      <th>Currency</th>\n",
              "      <th>Has Table booking</th>\n",
              "      <th>Has Online delivery</th>\n",
              "      <th>Is delivering now</th>\n",
              "      <th>Switch to order menu</th>\n",
              "      <th>Price range</th>\n",
              "      <th>Aggregate rating</th>\n",
              "      <th>Rating color</th>\n",
              "      <th>Rating text</th>\n",
              "      <th>Votes</th>\n",
              "    </tr>\n",
              "  </thead>\n",
              "  <tbody>\n",
              "    <tr>\n",
              "      <th>0</th>\n",
              "      <td>False</td>\n",
              "      <td>False</td>\n",
              "      <td>False</td>\n",
              "      <td>False</td>\n",
              "      <td>False</td>\n",
              "      <td>False</td>\n",
              "      <td>False</td>\n",
              "      <td>False</td>\n",
              "      <td>False</td>\n",
              "      <td>False</td>\n",
              "      <td>...</td>\n",
              "      <td>False</td>\n",
              "      <td>False</td>\n",
              "      <td>False</td>\n",
              "      <td>False</td>\n",
              "      <td>False</td>\n",
              "      <td>False</td>\n",
              "      <td>False</td>\n",
              "      <td>False</td>\n",
              "      <td>False</td>\n",
              "      <td>False</td>\n",
              "    </tr>\n",
              "    <tr>\n",
              "      <th>1</th>\n",
              "      <td>False</td>\n",
              "      <td>False</td>\n",
              "      <td>False</td>\n",
              "      <td>False</td>\n",
              "      <td>False</td>\n",
              "      <td>False</td>\n",
              "      <td>False</td>\n",
              "      <td>False</td>\n",
              "      <td>False</td>\n",
              "      <td>False</td>\n",
              "      <td>...</td>\n",
              "      <td>False</td>\n",
              "      <td>False</td>\n",
              "      <td>False</td>\n",
              "      <td>False</td>\n",
              "      <td>False</td>\n",
              "      <td>False</td>\n",
              "      <td>False</td>\n",
              "      <td>False</td>\n",
              "      <td>False</td>\n",
              "      <td>False</td>\n",
              "    </tr>\n",
              "    <tr>\n",
              "      <th>2</th>\n",
              "      <td>False</td>\n",
              "      <td>False</td>\n",
              "      <td>False</td>\n",
              "      <td>False</td>\n",
              "      <td>False</td>\n",
              "      <td>False</td>\n",
              "      <td>False</td>\n",
              "      <td>False</td>\n",
              "      <td>False</td>\n",
              "      <td>False</td>\n",
              "      <td>...</td>\n",
              "      <td>False</td>\n",
              "      <td>False</td>\n",
              "      <td>False</td>\n",
              "      <td>False</td>\n",
              "      <td>False</td>\n",
              "      <td>False</td>\n",
              "      <td>False</td>\n",
              "      <td>False</td>\n",
              "      <td>False</td>\n",
              "      <td>False</td>\n",
              "    </tr>\n",
              "    <tr>\n",
              "      <th>3</th>\n",
              "      <td>False</td>\n",
              "      <td>False</td>\n",
              "      <td>False</td>\n",
              "      <td>False</td>\n",
              "      <td>False</td>\n",
              "      <td>False</td>\n",
              "      <td>False</td>\n",
              "      <td>False</td>\n",
              "      <td>False</td>\n",
              "      <td>False</td>\n",
              "      <td>...</td>\n",
              "      <td>False</td>\n",
              "      <td>False</td>\n",
              "      <td>False</td>\n",
              "      <td>False</td>\n",
              "      <td>False</td>\n",
              "      <td>False</td>\n",
              "      <td>False</td>\n",
              "      <td>False</td>\n",
              "      <td>False</td>\n",
              "      <td>False</td>\n",
              "    </tr>\n",
              "    <tr>\n",
              "      <th>4</th>\n",
              "      <td>False</td>\n",
              "      <td>False</td>\n",
              "      <td>False</td>\n",
              "      <td>False</td>\n",
              "      <td>False</td>\n",
              "      <td>False</td>\n",
              "      <td>False</td>\n",
              "      <td>False</td>\n",
              "      <td>False</td>\n",
              "      <td>False</td>\n",
              "      <td>...</td>\n",
              "      <td>False</td>\n",
              "      <td>False</td>\n",
              "      <td>False</td>\n",
              "      <td>False</td>\n",
              "      <td>False</td>\n",
              "      <td>False</td>\n",
              "      <td>False</td>\n",
              "      <td>False</td>\n",
              "      <td>False</td>\n",
              "      <td>False</td>\n",
              "    </tr>\n",
              "    <tr>\n",
              "      <th>...</th>\n",
              "      <td>...</td>\n",
              "      <td>...</td>\n",
              "      <td>...</td>\n",
              "      <td>...</td>\n",
              "      <td>...</td>\n",
              "      <td>...</td>\n",
              "      <td>...</td>\n",
              "      <td>...</td>\n",
              "      <td>...</td>\n",
              "      <td>...</td>\n",
              "      <td>...</td>\n",
              "      <td>...</td>\n",
              "      <td>...</td>\n",
              "      <td>...</td>\n",
              "      <td>...</td>\n",
              "      <td>...</td>\n",
              "      <td>...</td>\n",
              "      <td>...</td>\n",
              "      <td>...</td>\n",
              "      <td>...</td>\n",
              "      <td>...</td>\n",
              "    </tr>\n",
              "    <tr>\n",
              "      <th>9546</th>\n",
              "      <td>False</td>\n",
              "      <td>False</td>\n",
              "      <td>False</td>\n",
              "      <td>False</td>\n",
              "      <td>False</td>\n",
              "      <td>False</td>\n",
              "      <td>False</td>\n",
              "      <td>False</td>\n",
              "      <td>False</td>\n",
              "      <td>False</td>\n",
              "      <td>...</td>\n",
              "      <td>False</td>\n",
              "      <td>False</td>\n",
              "      <td>False</td>\n",
              "      <td>False</td>\n",
              "      <td>False</td>\n",
              "      <td>False</td>\n",
              "      <td>False</td>\n",
              "      <td>False</td>\n",
              "      <td>False</td>\n",
              "      <td>False</td>\n",
              "    </tr>\n",
              "    <tr>\n",
              "      <th>9547</th>\n",
              "      <td>False</td>\n",
              "      <td>False</td>\n",
              "      <td>False</td>\n",
              "      <td>False</td>\n",
              "      <td>False</td>\n",
              "      <td>False</td>\n",
              "      <td>False</td>\n",
              "      <td>False</td>\n",
              "      <td>False</td>\n",
              "      <td>False</td>\n",
              "      <td>...</td>\n",
              "      <td>False</td>\n",
              "      <td>False</td>\n",
              "      <td>False</td>\n",
              "      <td>False</td>\n",
              "      <td>False</td>\n",
              "      <td>False</td>\n",
              "      <td>False</td>\n",
              "      <td>False</td>\n",
              "      <td>False</td>\n",
              "      <td>False</td>\n",
              "    </tr>\n",
              "    <tr>\n",
              "      <th>9548</th>\n",
              "      <td>False</td>\n",
              "      <td>False</td>\n",
              "      <td>False</td>\n",
              "      <td>False</td>\n",
              "      <td>False</td>\n",
              "      <td>False</td>\n",
              "      <td>False</td>\n",
              "      <td>False</td>\n",
              "      <td>False</td>\n",
              "      <td>False</td>\n",
              "      <td>...</td>\n",
              "      <td>False</td>\n",
              "      <td>False</td>\n",
              "      <td>False</td>\n",
              "      <td>False</td>\n",
              "      <td>False</td>\n",
              "      <td>False</td>\n",
              "      <td>False</td>\n",
              "      <td>False</td>\n",
              "      <td>False</td>\n",
              "      <td>False</td>\n",
              "    </tr>\n",
              "    <tr>\n",
              "      <th>9549</th>\n",
              "      <td>False</td>\n",
              "      <td>False</td>\n",
              "      <td>False</td>\n",
              "      <td>False</td>\n",
              "      <td>False</td>\n",
              "      <td>False</td>\n",
              "      <td>False</td>\n",
              "      <td>False</td>\n",
              "      <td>False</td>\n",
              "      <td>False</td>\n",
              "      <td>...</td>\n",
              "      <td>False</td>\n",
              "      <td>False</td>\n",
              "      <td>False</td>\n",
              "      <td>False</td>\n",
              "      <td>False</td>\n",
              "      <td>False</td>\n",
              "      <td>False</td>\n",
              "      <td>False</td>\n",
              "      <td>False</td>\n",
              "      <td>False</td>\n",
              "    </tr>\n",
              "    <tr>\n",
              "      <th>9550</th>\n",
              "      <td>False</td>\n",
              "      <td>False</td>\n",
              "      <td>False</td>\n",
              "      <td>False</td>\n",
              "      <td>False</td>\n",
              "      <td>False</td>\n",
              "      <td>False</td>\n",
              "      <td>False</td>\n",
              "      <td>False</td>\n",
              "      <td>False</td>\n",
              "      <td>...</td>\n",
              "      <td>False</td>\n",
              "      <td>False</td>\n",
              "      <td>False</td>\n",
              "      <td>False</td>\n",
              "      <td>False</td>\n",
              "      <td>False</td>\n",
              "      <td>False</td>\n",
              "      <td>False</td>\n",
              "      <td>False</td>\n",
              "      <td>False</td>\n",
              "    </tr>\n",
              "  </tbody>\n",
              "</table>\n",
              "<p>9551 rows × 21 columns</p>\n",
              "</div>\n",
              "    <div class=\"colab-df-buttons\">\n",
              "\n",
              "  <div class=\"colab-df-container\">\n",
              "    <button class=\"colab-df-convert\" onclick=\"convertToInteractive('df-0a79b3e5-bd02-4c02-a4c7-ca30dea532d7')\"\n",
              "            title=\"Convert this dataframe to an interactive table.\"\n",
              "            style=\"display:none;\">\n",
              "\n",
              "  <svg xmlns=\"http://www.w3.org/2000/svg\" height=\"24px\" viewBox=\"0 -960 960 960\">\n",
              "    <path d=\"M120-120v-720h720v720H120Zm60-500h600v-160H180v160Zm220 220h160v-160H400v160Zm0 220h160v-160H400v160ZM180-400h160v-160H180v160Zm440 0h160v-160H620v160ZM180-180h160v-160H180v160Zm440 0h160v-160H620v160Z\"/>\n",
              "  </svg>\n",
              "    </button>\n",
              "\n",
              "  <style>\n",
              "    .colab-df-container {\n",
              "      display:flex;\n",
              "      gap: 12px;\n",
              "    }\n",
              "\n",
              "    .colab-df-convert {\n",
              "      background-color: #E8F0FE;\n",
              "      border: none;\n",
              "      border-radius: 50%;\n",
              "      cursor: pointer;\n",
              "      display: none;\n",
              "      fill: #1967D2;\n",
              "      height: 32px;\n",
              "      padding: 0 0 0 0;\n",
              "      width: 32px;\n",
              "    }\n",
              "\n",
              "    .colab-df-convert:hover {\n",
              "      background-color: #E2EBFA;\n",
              "      box-shadow: 0px 1px 2px rgba(60, 64, 67, 0.3), 0px 1px 3px 1px rgba(60, 64, 67, 0.15);\n",
              "      fill: #174EA6;\n",
              "    }\n",
              "\n",
              "    .colab-df-buttons div {\n",
              "      margin-bottom: 4px;\n",
              "    }\n",
              "\n",
              "    [theme=dark] .colab-df-convert {\n",
              "      background-color: #3B4455;\n",
              "      fill: #D2E3FC;\n",
              "    }\n",
              "\n",
              "    [theme=dark] .colab-df-convert:hover {\n",
              "      background-color: #434B5C;\n",
              "      box-shadow: 0px 1px 3px 1px rgba(0, 0, 0, 0.15);\n",
              "      filter: drop-shadow(0px 1px 2px rgba(0, 0, 0, 0.3));\n",
              "      fill: #FFFFFF;\n",
              "    }\n",
              "  </style>\n",
              "\n",
              "    <script>\n",
              "      const buttonEl =\n",
              "        document.querySelector('#df-0a79b3e5-bd02-4c02-a4c7-ca30dea532d7 button.colab-df-convert');\n",
              "      buttonEl.style.display =\n",
              "        google.colab.kernel.accessAllowed ? 'block' : 'none';\n",
              "\n",
              "      async function convertToInteractive(key) {\n",
              "        const element = document.querySelector('#df-0a79b3e5-bd02-4c02-a4c7-ca30dea532d7');\n",
              "        const dataTable =\n",
              "          await google.colab.kernel.invokeFunction('convertToInteractive',\n",
              "                                                    [key], {});\n",
              "        if (!dataTable) return;\n",
              "\n",
              "        const docLinkHtml = 'Like what you see? Visit the ' +\n",
              "          '<a target=\"_blank\" href=https://colab.research.google.com/notebooks/data_table.ipynb>data table notebook</a>'\n",
              "          + ' to learn more about interactive tables.';\n",
              "        element.innerHTML = '';\n",
              "        dataTable['output_type'] = 'display_data';\n",
              "        await google.colab.output.renderOutput(dataTable, element);\n",
              "        const docLink = document.createElement('div');\n",
              "        docLink.innerHTML = docLinkHtml;\n",
              "        element.appendChild(docLink);\n",
              "      }\n",
              "    </script>\n",
              "  </div>\n",
              "\n",
              "\n",
              "<div id=\"df-aae0df47-de6f-42a2-b0a4-bc744367c450\">\n",
              "  <button class=\"colab-df-quickchart\" onclick=\"quickchart('df-aae0df47-de6f-42a2-b0a4-bc744367c450')\"\n",
              "            title=\"Suggest charts\"\n",
              "            style=\"display:none;\">\n",
              "\n",
              "<svg xmlns=\"http://www.w3.org/2000/svg\" height=\"24px\"viewBox=\"0 0 24 24\"\n",
              "     width=\"24px\">\n",
              "    <g>\n",
              "        <path d=\"M19 3H5c-1.1 0-2 .9-2 2v14c0 1.1.9 2 2 2h14c1.1 0 2-.9 2-2V5c0-1.1-.9-2-2-2zM9 17H7v-7h2v7zm4 0h-2V7h2v10zm4 0h-2v-4h2v4z\"/>\n",
              "    </g>\n",
              "</svg>\n",
              "  </button>\n",
              "\n",
              "<style>\n",
              "  .colab-df-quickchart {\n",
              "      --bg-color: #E8F0FE;\n",
              "      --fill-color: #1967D2;\n",
              "      --hover-bg-color: #E2EBFA;\n",
              "      --hover-fill-color: #174EA6;\n",
              "      --disabled-fill-color: #AAA;\n",
              "      --disabled-bg-color: #DDD;\n",
              "  }\n",
              "\n",
              "  [theme=dark] .colab-df-quickchart {\n",
              "      --bg-color: #3B4455;\n",
              "      --fill-color: #D2E3FC;\n",
              "      --hover-bg-color: #434B5C;\n",
              "      --hover-fill-color: #FFFFFF;\n",
              "      --disabled-bg-color: #3B4455;\n",
              "      --disabled-fill-color: #666;\n",
              "  }\n",
              "\n",
              "  .colab-df-quickchart {\n",
              "    background-color: var(--bg-color);\n",
              "    border: none;\n",
              "    border-radius: 50%;\n",
              "    cursor: pointer;\n",
              "    display: none;\n",
              "    fill: var(--fill-color);\n",
              "    height: 32px;\n",
              "    padding: 0;\n",
              "    width: 32px;\n",
              "  }\n",
              "\n",
              "  .colab-df-quickchart:hover {\n",
              "    background-color: var(--hover-bg-color);\n",
              "    box-shadow: 0 1px 2px rgba(60, 64, 67, 0.3), 0 1px 3px 1px rgba(60, 64, 67, 0.15);\n",
              "    fill: var(--button-hover-fill-color);\n",
              "  }\n",
              "\n",
              "  .colab-df-quickchart-complete:disabled,\n",
              "  .colab-df-quickchart-complete:disabled:hover {\n",
              "    background-color: var(--disabled-bg-color);\n",
              "    fill: var(--disabled-fill-color);\n",
              "    box-shadow: none;\n",
              "  }\n",
              "\n",
              "  .colab-df-spinner {\n",
              "    border: 2px solid var(--fill-color);\n",
              "    border-color: transparent;\n",
              "    border-bottom-color: var(--fill-color);\n",
              "    animation:\n",
              "      spin 1s steps(1) infinite;\n",
              "  }\n",
              "\n",
              "  @keyframes spin {\n",
              "    0% {\n",
              "      border-color: transparent;\n",
              "      border-bottom-color: var(--fill-color);\n",
              "      border-left-color: var(--fill-color);\n",
              "    }\n",
              "    20% {\n",
              "      border-color: transparent;\n",
              "      border-left-color: var(--fill-color);\n",
              "      border-top-color: var(--fill-color);\n",
              "    }\n",
              "    30% {\n",
              "      border-color: transparent;\n",
              "      border-left-color: var(--fill-color);\n",
              "      border-top-color: var(--fill-color);\n",
              "      border-right-color: var(--fill-color);\n",
              "    }\n",
              "    40% {\n",
              "      border-color: transparent;\n",
              "      border-right-color: var(--fill-color);\n",
              "      border-top-color: var(--fill-color);\n",
              "    }\n",
              "    60% {\n",
              "      border-color: transparent;\n",
              "      border-right-color: var(--fill-color);\n",
              "    }\n",
              "    80% {\n",
              "      border-color: transparent;\n",
              "      border-right-color: var(--fill-color);\n",
              "      border-bottom-color: var(--fill-color);\n",
              "    }\n",
              "    90% {\n",
              "      border-color: transparent;\n",
              "      border-bottom-color: var(--fill-color);\n",
              "    }\n",
              "  }\n",
              "</style>\n",
              "\n",
              "  <script>\n",
              "    async function quickchart(key) {\n",
              "      const quickchartButtonEl =\n",
              "        document.querySelector('#' + key + ' button');\n",
              "      quickchartButtonEl.disabled = true;  // To prevent multiple clicks.\n",
              "      quickchartButtonEl.classList.add('colab-df-spinner');\n",
              "      try {\n",
              "        const charts = await google.colab.kernel.invokeFunction(\n",
              "            'suggestCharts', [key], {});\n",
              "      } catch (error) {\n",
              "        console.error('Error during call to suggestCharts:', error);\n",
              "      }\n",
              "      quickchartButtonEl.classList.remove('colab-df-spinner');\n",
              "      quickchartButtonEl.classList.add('colab-df-quickchart-complete');\n",
              "    }\n",
              "    (() => {\n",
              "      let quickchartButtonEl =\n",
              "        document.querySelector('#df-aae0df47-de6f-42a2-b0a4-bc744367c450 button');\n",
              "      quickchartButtonEl.style.display =\n",
              "        google.colab.kernel.accessAllowed ? 'block' : 'none';\n",
              "    })();\n",
              "  </script>\n",
              "</div>\n",
              "    </div>\n",
              "  </div>\n"
            ],
            "application/vnd.google.colaboratory.intrinsic+json": {
              "type": "dataframe"
            }
          },
          "metadata": {},
          "execution_count": 9
        }
      ]
    },
    {
      "cell_type": "markdown",
      "source": [
        "Two sum method:"
      ],
      "metadata": {
        "id": "dVlrX4_JmB6-"
      }
    },
    {
      "cell_type": "code",
      "source": [
        "#obtaining  total no of null values in each col\n",
        "data1.isnull().sum()"
      ],
      "metadata": {
        "id": "nvZUgEWxloiU",
        "colab": {
          "base_uri": "https://localhost:8080/"
        },
        "outputId": "a905022a-9b17-4f2e-83e6-8ad7099d5b8c"
      },
      "execution_count": null,
      "outputs": [
        {
          "output_type": "execute_result",
          "data": {
            "text/plain": [
              "Restaurant ID           0\n",
              "Restaurant Name         0\n",
              "Country Code            0\n",
              "City                    0\n",
              "Address                 0\n",
              "Locality                0\n",
              "Locality Verbose        0\n",
              "Longitude               0\n",
              "Latitude                0\n",
              "Cuisines                9\n",
              "Average Cost for two    0\n",
              "Currency                0\n",
              "Has Table booking       0\n",
              "Has Online delivery     0\n",
              "Is delivering now       0\n",
              "Switch to order menu    0\n",
              "Price range             0\n",
              "Aggregate rating        0\n",
              "Rating color            0\n",
              "Rating text             0\n",
              "Votes                   0\n",
              "dtype: int64"
            ]
          },
          "metadata": {},
          "execution_count": 10
        }
      ]
    },
    {
      "cell_type": "markdown",
      "source": [
        "cuisine has 9 NULL values"
      ],
      "metadata": {
        "id": "RdEI8Ua72aNj"
      }
    },
    {
      "cell_type": "code",
      "source": [
        "#total null values :\n",
        "data1.isnull().sum().sum()"
      ],
      "metadata": {
        "id": "uRLu9Zr3mlG6",
        "colab": {
          "base_uri": "https://localhost:8080/"
        },
        "outputId": "cd1bd11c-9d9d-4600-a904-3a68e024ec7b"
      },
      "execution_count": null,
      "outputs": [
        {
          "output_type": "execute_result",
          "data": {
            "text/plain": [
              "9"
            ]
          },
          "metadata": {},
          "execution_count": 11
        }
      ]
    },
    {
      "cell_type": "markdown",
      "source": [
        "missing values in categorial variable : 1) replace by mode if insignificant null values i.e. fill in most frequent values  ,2)Fill NaN (df.fillna()) or ignore ,3)predictive filling,4)fill category with probability,5)one-hot-encoding: to maintain history of missingness,6)KNN models"
      ],
      "metadata": {
        "id": "sq4GFJwHnpor"
      }
    },
    {
      "cell_type": "code",
      "source": [
        "#for preprocessing data  : use of utility functions\n",
        "# single label\n",
        "from sklearn.preprocessing import LabelEncoder\n",
        "#Multiple target label for one value\n",
        "from sklearn.preprocessing import MultiLabelBinarizer,StandardScaler\n",
        "from sklearn.impute import SimpleImputer\n",
        "#SimpleImputer : replace missing values with a specified \"strategy\"\n",
        "#LaabelEncoder : encodes categorial variables into numerical values\n",
        "#MultiLableBinarizer : binary encoding of categorial variables in multiple labels.\n",
        "#.fit_transform(data[[]]) : tranformer class to help with downstream estimations\n",
        "\n"
      ],
      "metadata": {
        "id": "7bkwsZEn9XZW"
      },
      "execution_count": null,
      "outputs": []
    },
    {
      "cell_type": "markdown",
      "source": [
        "Here I have decided to **fill in with most frequent values as** : 1) Since the number of missing values is small (only 9 out of 9000),unlikely to introduce significant bias into the dataset, especially if the mode is a reasonable representation of the typical cuisine in the dataset or 2)chnage the distribution curve.3)It maintains the categorical nature of the variable and ensures that each restaurant is assigned to a known cuisine category.\n"
      ],
      "metadata": {
        "id": "f13qRz5I8mzu"
      }
    },
    {
      "cell_type": "code",
      "source": [
        "#Handling missing value by \"mode impute method :\"\n",
        "imputer = SimpleImputer(strategy='most_frequent')\n",
        "data1['Cuisines'] = imputer.fit_transform(data1[['Cuisines']])\n"
      ],
      "metadata": {
        "id": "aScPEjii_NJu"
      },
      "execution_count": null,
      "outputs": []
    },
    {
      "cell_type": "code",
      "source": [
        "##checking if missing values removed or not\n",
        "#data1.isnull().sum()\n",
        "data1.isnull().sum().sum()"
      ],
      "metadata": {
        "id": "KNcQFVFNd_PF",
        "colab": {
          "base_uri": "https://localhost:8080/"
        },
        "outputId": "2595a63d-078a-4f74-85a3-c47f8800b711"
      },
      "execution_count": null,
      "outputs": [
        {
          "output_type": "execute_result",
          "data": {
            "text/plain": [
              "0"
            ]
          },
          "metadata": {},
          "execution_count": 14
        }
      ]
    },
    {
      "cell_type": "code",
      "source": [
        "print(data1.columns)"
      ],
      "metadata": {
        "id": "-eFty94znTlh",
        "colab": {
          "base_uri": "https://localhost:8080/"
        },
        "outputId": "021f41a7-fe94-448c-d713-3d82ec913f65"
      },
      "execution_count": null,
      "outputs": [
        {
          "output_type": "stream",
          "name": "stdout",
          "text": [
            "Index(['Restaurant ID', 'Restaurant Name', 'Country Code', 'City', 'Address',\n",
            "       'Locality', 'Locality Verbose', 'Longitude', 'Latitude', 'Cuisines',\n",
            "       'Average Cost for two', 'Currency', 'Has Table booking',\n",
            "       'Has Online delivery', 'Is delivering now', 'Switch to order menu',\n",
            "       'Price range', 'Aggregate rating', 'Rating color', 'Rating text',\n",
            "       'Votes'],\n",
            "      dtype='object')\n"
          ]
        }
      ]
    },
    {
      "cell_type": "code",
      "source": [
        "#convert multi-lable cuisines to list :\n",
        "#data1['Cuisines']=data1['Cuisines'].apply(lambda x: x.split(','))\n",
        "#data1.head()\n",
        "#print(data1['Cuisines'])"
      ],
      "metadata": {
        "id": "xPShL1u6WkIY"
      },
      "execution_count": null,
      "outputs": []
    },
    {
      "cell_type": "code",
      "source": [
        "#converting categorial variables to numerical encoding for further  tasks\n",
        "#for single label values in column/rows\n",
        "label_encoder = LabelEncoder()\n",
        "#creating a new col to stored the encoded value in order to not lose the original data\n",
        "#to convert the col cuisines to an numpy_arr we use : .to_numpy()\n",
        "#using 1D array and avoid data conversion warnings\n",
        "#creating a new col to stored the encoded value in order to not lose the original data\n",
        "#using 1D array and avoid data conversion warnings\n",
        "cuisine_list = data1['Cuisines']\n",
        "data1['Cuisines_encoded'] =label_encoder.fit_transform(cuisine_list)\n"
      ],
      "metadata": {
        "id": "8_-Gktt3AeUr"
      },
      "execution_count": null,
      "outputs": []
    },
    {
      "cell_type": "code",
      "source": [
        "#converting categorial variables to binary encoding for further ease of downstream tasks\n",
        "#doing Multiple label's Binarization\n",
        "#Multi_encoding = MultiLabelBinarizer()\n",
        "#creating a new col to stored the encoded value in order to not lose the original data\n",
        "#cuisine_encoded  = Multi_encoding.fit_transform(data1['Cuisines'])\n",
        "#creating a new df to be added to the original data\n",
        "#cuisine_df = pd.DataFrame(cuisine_encoded,columns = Multi_encoding.classes_)\n"
      ],
      "metadata": {
        "id": "eH-AETfOZYxs"
      },
      "execution_count": null,
      "outputs": []
    },
    {
      "cell_type": "code",
      "source": [
        "encoded_list = data1['Cuisines_encoded']\n",
        "#print the value of binary encoding of element one in cuisine_encoded list\n",
        "encoded_list[1]"
      ],
      "metadata": {
        "id": "_A6zP38K_jbw",
        "colab": {
          "base_uri": "https://localhost:8080/"
        },
        "outputId": "e85fabba-abf2-44cc-c237-ffc0031d33c5"
      },
      "execution_count": null,
      "outputs": [
        {
          "output_type": "execute_result",
          "data": {
            "text/plain": [
              "1111"
            ]
          },
          "metadata": {},
          "execution_count": 19
        }
      ]
    },
    {
      "cell_type": "code",
      "source": [
        "#dropping all non-numeric values in originl dataframe\n",
        "data1.dtypes"
      ],
      "metadata": {
        "id": "rXWBrZtlg_J4",
        "colab": {
          "base_uri": "https://localhost:8080/"
        },
        "outputId": "18fe6a7f-3197-4fe7-950b-d746d9ac5de4"
      },
      "execution_count": null,
      "outputs": [
        {
          "output_type": "execute_result",
          "data": {
            "text/plain": [
              "Restaurant ID             int64\n",
              "Restaurant Name          object\n",
              "Country Code              int64\n",
              "City                     object\n",
              "Address                  object\n",
              "Locality                 object\n",
              "Locality Verbose         object\n",
              "Longitude               float64\n",
              "Latitude                float64\n",
              "Cuisines                 object\n",
              "Average Cost for two      int64\n",
              "Currency                 object\n",
              "Has Table booking        object\n",
              "Has Online delivery      object\n",
              "Is delivering now        object\n",
              "Switch to order menu     object\n",
              "Price range               int64\n",
              "Aggregate rating        float64\n",
              "Rating color             object\n",
              "Rating text              object\n",
              "Votes                     int64\n",
              "Cuisines_encoded          int64\n",
              "dtype: object"
            ]
          },
          "metadata": {},
          "execution_count": 20
        }
      ]
    },
    {
      "cell_type": "code",
      "source": [],
      "metadata": {
        "id": "z6Xksjl9_mGC"
      },
      "execution_count": null,
      "outputs": []
    },
    {
      "cell_type": "code",
      "source": [
        "#to avoid losses in original dataFrame\n",
        "data1_processed = pd.DataFrame(data1)\n",
        "data1_processed.columns"
      ],
      "metadata": {
        "id": "UmiykS94aBFw",
        "colab": {
          "base_uri": "https://localhost:8080/"
        },
        "outputId": "75646212-f4d9-4d58-ba70-4ee1532f9f42"
      },
      "execution_count": null,
      "outputs": [
        {
          "output_type": "execute_result",
          "data": {
            "text/plain": [
              "Index(['Restaurant ID', 'Restaurant Name', 'Country Code', 'City', 'Address',\n",
              "       'Locality', 'Locality Verbose', 'Longitude', 'Latitude', 'Cuisines',\n",
              "       'Average Cost for two', 'Currency', 'Has Table booking',\n",
              "       'Has Online delivery', 'Is delivering now', 'Switch to order menu',\n",
              "       'Price range', 'Aggregate rating', 'Rating color', 'Rating text',\n",
              "       'Votes', 'Cuisines_encoded'],\n",
              "      dtype='object')"
            ]
          },
          "metadata": {},
          "execution_count": 21
        }
      ]
    },
    {
      "cell_type": "code",
      "source": [
        "#dropping col not needed for classification anymore after encoding : non-numeric removal\n",
        "# Drop columns\n",
        "columns_to_drop = ['Restaurant ID', 'Country Code', 'City', 'Address', 'Locality', 'Locality Verbose','Cuisines',\n",
        "                   'Longitude', 'Latitude', 'Currency', 'Has Table booking', 'Has Online delivery', 'Is delivering now',\n",
        "                   'Switch to order menu', 'Rating color','Aggregate rating','Price range', 'Rating text', 'Votes']\n",
        "data1_processed.drop(columns=columns_to_drop,axis=1, inplace=True)\n"
      ],
      "metadata": {
        "id": "p8RcvGS9hPYs"
      },
      "execution_count": null,
      "outputs": []
    },
    {
      "cell_type": "code",
      "source": [
        "data1_processed.head()"
      ],
      "metadata": {
        "id": "y-AqDSaSKhI1",
        "colab": {
          "base_uri": "https://localhost:8080/",
          "height": 206
        },
        "outputId": "f32cd1a5-8818-4da9-c0b8-803a39cae57a"
      },
      "execution_count": null,
      "outputs": [
        {
          "output_type": "execute_result",
          "data": {
            "text/plain": [
              "          Restaurant Name  Average Cost for two  Cuisines_encoded\n",
              "0        Le Petit Souffle                  1100               920\n",
              "1        Izakaya Kikufuji                  1200              1111\n",
              "2  Heat - Edsa Shangri-La                  4000              1671\n",
              "3                    Ooma                  1500              1126\n",
              "4             Sambo Kojin                  1500              1122"
            ],
            "text/html": [
              "\n",
              "  <div id=\"df-07528270-6a6b-47f0-9079-172b3614d80b\" class=\"colab-df-container\">\n",
              "    <div>\n",
              "<style scoped>\n",
              "    .dataframe tbody tr th:only-of-type {\n",
              "        vertical-align: middle;\n",
              "    }\n",
              "\n",
              "    .dataframe tbody tr th {\n",
              "        vertical-align: top;\n",
              "    }\n",
              "\n",
              "    .dataframe thead th {\n",
              "        text-align: right;\n",
              "    }\n",
              "</style>\n",
              "<table border=\"1\" class=\"dataframe\">\n",
              "  <thead>\n",
              "    <tr style=\"text-align: right;\">\n",
              "      <th></th>\n",
              "      <th>Restaurant Name</th>\n",
              "      <th>Average Cost for two</th>\n",
              "      <th>Cuisines_encoded</th>\n",
              "    </tr>\n",
              "  </thead>\n",
              "  <tbody>\n",
              "    <tr>\n",
              "      <th>0</th>\n",
              "      <td>Le Petit Souffle</td>\n",
              "      <td>1100</td>\n",
              "      <td>920</td>\n",
              "    </tr>\n",
              "    <tr>\n",
              "      <th>1</th>\n",
              "      <td>Izakaya Kikufuji</td>\n",
              "      <td>1200</td>\n",
              "      <td>1111</td>\n",
              "    </tr>\n",
              "    <tr>\n",
              "      <th>2</th>\n",
              "      <td>Heat - Edsa Shangri-La</td>\n",
              "      <td>4000</td>\n",
              "      <td>1671</td>\n",
              "    </tr>\n",
              "    <tr>\n",
              "      <th>3</th>\n",
              "      <td>Ooma</td>\n",
              "      <td>1500</td>\n",
              "      <td>1126</td>\n",
              "    </tr>\n",
              "    <tr>\n",
              "      <th>4</th>\n",
              "      <td>Sambo Kojin</td>\n",
              "      <td>1500</td>\n",
              "      <td>1122</td>\n",
              "    </tr>\n",
              "  </tbody>\n",
              "</table>\n",
              "</div>\n",
              "    <div class=\"colab-df-buttons\">\n",
              "\n",
              "  <div class=\"colab-df-container\">\n",
              "    <button class=\"colab-df-convert\" onclick=\"convertToInteractive('df-07528270-6a6b-47f0-9079-172b3614d80b')\"\n",
              "            title=\"Convert this dataframe to an interactive table.\"\n",
              "            style=\"display:none;\">\n",
              "\n",
              "  <svg xmlns=\"http://www.w3.org/2000/svg\" height=\"24px\" viewBox=\"0 -960 960 960\">\n",
              "    <path d=\"M120-120v-720h720v720H120Zm60-500h600v-160H180v160Zm220 220h160v-160H400v160Zm0 220h160v-160H400v160ZM180-400h160v-160H180v160Zm440 0h160v-160H620v160ZM180-180h160v-160H180v160Zm440 0h160v-160H620v160Z\"/>\n",
              "  </svg>\n",
              "    </button>\n",
              "\n",
              "  <style>\n",
              "    .colab-df-container {\n",
              "      display:flex;\n",
              "      gap: 12px;\n",
              "    }\n",
              "\n",
              "    .colab-df-convert {\n",
              "      background-color: #E8F0FE;\n",
              "      border: none;\n",
              "      border-radius: 50%;\n",
              "      cursor: pointer;\n",
              "      display: none;\n",
              "      fill: #1967D2;\n",
              "      height: 32px;\n",
              "      padding: 0 0 0 0;\n",
              "      width: 32px;\n",
              "    }\n",
              "\n",
              "    .colab-df-convert:hover {\n",
              "      background-color: #E2EBFA;\n",
              "      box-shadow: 0px 1px 2px rgba(60, 64, 67, 0.3), 0px 1px 3px 1px rgba(60, 64, 67, 0.15);\n",
              "      fill: #174EA6;\n",
              "    }\n",
              "\n",
              "    .colab-df-buttons div {\n",
              "      margin-bottom: 4px;\n",
              "    }\n",
              "\n",
              "    [theme=dark] .colab-df-convert {\n",
              "      background-color: #3B4455;\n",
              "      fill: #D2E3FC;\n",
              "    }\n",
              "\n",
              "    [theme=dark] .colab-df-convert:hover {\n",
              "      background-color: #434B5C;\n",
              "      box-shadow: 0px 1px 3px 1px rgba(0, 0, 0, 0.15);\n",
              "      filter: drop-shadow(0px 1px 2px rgba(0, 0, 0, 0.3));\n",
              "      fill: #FFFFFF;\n",
              "    }\n",
              "  </style>\n",
              "\n",
              "    <script>\n",
              "      const buttonEl =\n",
              "        document.querySelector('#df-07528270-6a6b-47f0-9079-172b3614d80b button.colab-df-convert');\n",
              "      buttonEl.style.display =\n",
              "        google.colab.kernel.accessAllowed ? 'block' : 'none';\n",
              "\n",
              "      async function convertToInteractive(key) {\n",
              "        const element = document.querySelector('#df-07528270-6a6b-47f0-9079-172b3614d80b');\n",
              "        const dataTable =\n",
              "          await google.colab.kernel.invokeFunction('convertToInteractive',\n",
              "                                                    [key], {});\n",
              "        if (!dataTable) return;\n",
              "\n",
              "        const docLinkHtml = 'Like what you see? Visit the ' +\n",
              "          '<a target=\"_blank\" href=https://colab.research.google.com/notebooks/data_table.ipynb>data table notebook</a>'\n",
              "          + ' to learn more about interactive tables.';\n",
              "        element.innerHTML = '';\n",
              "        dataTable['output_type'] = 'display_data';\n",
              "        await google.colab.output.renderOutput(dataTable, element);\n",
              "        const docLink = document.createElement('div');\n",
              "        docLink.innerHTML = docLinkHtml;\n",
              "        element.appendChild(docLink);\n",
              "      }\n",
              "    </script>\n",
              "  </div>\n",
              "\n",
              "\n",
              "<div id=\"df-b1a24dde-5f95-48a5-9687-d2af2ee966cd\">\n",
              "  <button class=\"colab-df-quickchart\" onclick=\"quickchart('df-b1a24dde-5f95-48a5-9687-d2af2ee966cd')\"\n",
              "            title=\"Suggest charts\"\n",
              "            style=\"display:none;\">\n",
              "\n",
              "<svg xmlns=\"http://www.w3.org/2000/svg\" height=\"24px\"viewBox=\"0 0 24 24\"\n",
              "     width=\"24px\">\n",
              "    <g>\n",
              "        <path d=\"M19 3H5c-1.1 0-2 .9-2 2v14c0 1.1.9 2 2 2h14c1.1 0 2-.9 2-2V5c0-1.1-.9-2-2-2zM9 17H7v-7h2v7zm4 0h-2V7h2v10zm4 0h-2v-4h2v4z\"/>\n",
              "    </g>\n",
              "</svg>\n",
              "  </button>\n",
              "\n",
              "<style>\n",
              "  .colab-df-quickchart {\n",
              "      --bg-color: #E8F0FE;\n",
              "      --fill-color: #1967D2;\n",
              "      --hover-bg-color: #E2EBFA;\n",
              "      --hover-fill-color: #174EA6;\n",
              "      --disabled-fill-color: #AAA;\n",
              "      --disabled-bg-color: #DDD;\n",
              "  }\n",
              "\n",
              "  [theme=dark] .colab-df-quickchart {\n",
              "      --bg-color: #3B4455;\n",
              "      --fill-color: #D2E3FC;\n",
              "      --hover-bg-color: #434B5C;\n",
              "      --hover-fill-color: #FFFFFF;\n",
              "      --disabled-bg-color: #3B4455;\n",
              "      --disabled-fill-color: #666;\n",
              "  }\n",
              "\n",
              "  .colab-df-quickchart {\n",
              "    background-color: var(--bg-color);\n",
              "    border: none;\n",
              "    border-radius: 50%;\n",
              "    cursor: pointer;\n",
              "    display: none;\n",
              "    fill: var(--fill-color);\n",
              "    height: 32px;\n",
              "    padding: 0;\n",
              "    width: 32px;\n",
              "  }\n",
              "\n",
              "  .colab-df-quickchart:hover {\n",
              "    background-color: var(--hover-bg-color);\n",
              "    box-shadow: 0 1px 2px rgba(60, 64, 67, 0.3), 0 1px 3px 1px rgba(60, 64, 67, 0.15);\n",
              "    fill: var(--button-hover-fill-color);\n",
              "  }\n",
              "\n",
              "  .colab-df-quickchart-complete:disabled,\n",
              "  .colab-df-quickchart-complete:disabled:hover {\n",
              "    background-color: var(--disabled-bg-color);\n",
              "    fill: var(--disabled-fill-color);\n",
              "    box-shadow: none;\n",
              "  }\n",
              "\n",
              "  .colab-df-spinner {\n",
              "    border: 2px solid var(--fill-color);\n",
              "    border-color: transparent;\n",
              "    border-bottom-color: var(--fill-color);\n",
              "    animation:\n",
              "      spin 1s steps(1) infinite;\n",
              "  }\n",
              "\n",
              "  @keyframes spin {\n",
              "    0% {\n",
              "      border-color: transparent;\n",
              "      border-bottom-color: var(--fill-color);\n",
              "      border-left-color: var(--fill-color);\n",
              "    }\n",
              "    20% {\n",
              "      border-color: transparent;\n",
              "      border-left-color: var(--fill-color);\n",
              "      border-top-color: var(--fill-color);\n",
              "    }\n",
              "    30% {\n",
              "      border-color: transparent;\n",
              "      border-left-color: var(--fill-color);\n",
              "      border-top-color: var(--fill-color);\n",
              "      border-right-color: var(--fill-color);\n",
              "    }\n",
              "    40% {\n",
              "      border-color: transparent;\n",
              "      border-right-color: var(--fill-color);\n",
              "      border-top-color: var(--fill-color);\n",
              "    }\n",
              "    60% {\n",
              "      border-color: transparent;\n",
              "      border-right-color: var(--fill-color);\n",
              "    }\n",
              "    80% {\n",
              "      border-color: transparent;\n",
              "      border-right-color: var(--fill-color);\n",
              "      border-bottom-color: var(--fill-color);\n",
              "    }\n",
              "    90% {\n",
              "      border-color: transparent;\n",
              "      border-bottom-color: var(--fill-color);\n",
              "    }\n",
              "  }\n",
              "</style>\n",
              "\n",
              "  <script>\n",
              "    async function quickchart(key) {\n",
              "      const quickchartButtonEl =\n",
              "        document.querySelector('#' + key + ' button');\n",
              "      quickchartButtonEl.disabled = true;  // To prevent multiple clicks.\n",
              "      quickchartButtonEl.classList.add('colab-df-spinner');\n",
              "      try {\n",
              "        const charts = await google.colab.kernel.invokeFunction(\n",
              "            'suggestCharts', [key], {});\n",
              "      } catch (error) {\n",
              "        console.error('Error during call to suggestCharts:', error);\n",
              "      }\n",
              "      quickchartButtonEl.classList.remove('colab-df-spinner');\n",
              "      quickchartButtonEl.classList.add('colab-df-quickchart-complete');\n",
              "    }\n",
              "    (() => {\n",
              "      let quickchartButtonEl =\n",
              "        document.querySelector('#df-b1a24dde-5f95-48a5-9687-d2af2ee966cd button');\n",
              "      quickchartButtonEl.style.display =\n",
              "        google.colab.kernel.accessAllowed ? 'block' : 'none';\n",
              "    })();\n",
              "  </script>\n",
              "</div>\n",
              "    </div>\n",
              "  </div>\n"
            ],
            "application/vnd.google.colaboratory.intrinsic+json": {
              "type": "dataframe",
              "variable_name": "data1_processed",
              "summary": "{\n  \"name\": \"data1_processed\",\n  \"rows\": 9551,\n  \"fields\": [\n    {\n      \"column\": \"Restaurant Name\",\n      \"properties\": {\n        \"dtype\": \"string\",\n        \"num_unique_values\": 7446,\n        \"samples\": [\n          \"Kylin Skybar\",\n          \"Twisted Tacos\",\n          \"Cravings By Arshi Dhupia\"\n        ],\n        \"semantic_type\": \"\",\n        \"description\": \"\"\n      }\n    },\n    {\n      \"column\": \"Average Cost for two\",\n      \"properties\": {\n        \"dtype\": \"number\",\n        \"std\": 16121,\n        \"min\": 0,\n        \"max\": 800000,\n        \"num_unique_values\": 140,\n        \"samples\": [\n          4400,\n          2400,\n          40\n        ],\n        \"semantic_type\": \"\",\n        \"description\": \"\"\n      }\n    },\n    {\n      \"column\": \"Cuisines_encoded\",\n      \"properties\": {\n        \"dtype\": \"number\",\n        \"std\": 514,\n        \"min\": 0,\n        \"max\": 1824,\n        \"num_unique_values\": 1825,\n        \"samples\": [\n          1131,\n          290,\n          881\n        ],\n        \"semantic_type\": \"\",\n        \"description\": \"\"\n      }\n    }\n  ]\n}"
            }
          },
          "metadata": {},
          "execution_count": 23
        }
      ]
    },
    {
      "source": [
        "# @title Cuisines_encoded\n",
        "\n",
        "from matplotlib import pyplot as plt\n",
        "data1_processed['Cuisines_encoded'].plot(kind='hist', bins=20, title='Cuisines_encoded')\n",
        "plt.gca().spines[['top', 'right',]].set_visible(False)"
      ],
      "cell_type": "code",
      "execution_count": null,
      "outputs": [
        {
          "output_type": "display_data",
          "data": {
            "text/plain": [
              "<Figure size 640x480 with 1 Axes>"
            ],
            "image/png": "[encoded data removed]"
          },
          "metadata": {}
        }
      ],
      "metadata": {
        "id": "0zx9kWCXctDR",
        "colab": {
          "base_uri": "https://localhost:8080/",
          "height": 452
        },
        "outputId": "7a590988-95b2-4ceb-e2a9-454187673e32"
      }
    },
    {
      "source": [
        "# @title Cuisines_encoded\n",
        "\n",
        "from matplotlib import pyplot as plt\n",
        "data1_processed['Cuisines_encoded'].plot(kind='line', figsize=(8, 4), title='Cuisines_encoded')\n",
        "plt.gca().spines[['top', 'right']].set_visible(False)"
      ],
      "cell_type": "code",
      "execution_count": null,
      "outputs": [
        {
          "output_type": "display_data",
          "data": {
            "text/plain": [
              "<Figure size 800x400 with 1 Axes>"
            ],
            "image/png": "[encoded data removed]"
          },
          "metadata": {}
        }
      ],
      "metadata": {
        "id": "mhsv8KvWcnqG",
        "colab": {
          "base_uri": "https://localhost:8080/",
          "height": 391
        },
        "outputId": "42168b0a-fd4a-430c-8d9e-f6d22a0cd047"
      }
    },
    {
      "cell_type": "code",
      "source": [
        "data1_processed['Restaurant Name']"
      ],
      "metadata": {
        "id": "Xco2o1IFhnxV",
        "colab": {
          "base_uri": "https://localhost:8080/"
        },
        "outputId": "e5f1aaac-9868-48f9-cb2a-b071edc1fd27"
      },
      "execution_count": null,
      "outputs": [
        {
          "output_type": "execute_result",
          "data": {
            "text/plain": [
              "0               Le Petit Souffle\n",
              "1               Izakaya Kikufuji\n",
              "2         Heat - Edsa Shangri-La\n",
              "3                           Ooma\n",
              "4                    Sambo Kojin\n",
              "                  ...           \n",
              "9546                 Naml۱ Gurme\n",
              "9547                Ceviz A��ac۱\n",
              "9548                       Huqqa\n",
              "9549                 A���k Kahve\n",
              "9550    Walter's Coffee Roastery\n",
              "Name: Restaurant Name, Length: 9551, dtype: object"
            ]
          },
          "metadata": {},
          "execution_count": 26
        }
      ]
    },
    {
      "cell_type": "code",
      "source": [],
      "metadata": {
        "id": "f001Sny7AAlp"
      },
      "execution_count": null,
      "outputs": []
    },
    {
      "cell_type": "code",
      "source": [
        "#we need only numeric data for downstream classification while using RF\n",
        "label_encoder = LabelEncoder()\n",
        "data1_processed['Restaurant Name'] = label_encoder.fit_transform(data1_processed['Restaurant Name'])\n",
        "data1_processed.head()"
      ],
      "metadata": {
        "id": "_XZNLM8fc7JF",
        "colab": {
          "base_uri": "https://localhost:8080/",
          "height": 206
        },
        "outputId": "f9a9c00a-47b3-4898-fcc2-7b1864157043"
      },
      "execution_count": null,
      "outputs": [
        {
          "output_type": "execute_result",
          "data": {
            "text/plain": [
              "   Restaurant Name  Average Cost for two  Cuisines_encoded\n",
              "0             3748                  1100               920\n",
              "1             3172                  1200              1111\n",
              "2             2896                  4000              1671\n",
              "3             4707                  1500              1126\n",
              "4             5523                  1500              1122"
            ],
            "text/html": [
              "\n",
              "  <div id=\"df-85d6809b-f0a7-4362-9cf0-326d7d7519ce\" class=\"colab-df-container\">\n",
              "    <div>\n",
              "<style scoped>\n",
              "    .dataframe tbody tr th:only-of-type {\n",
              "        vertical-align: middle;\n",
              "    }\n",
              "\n",
              "    .dataframe tbody tr th {\n",
              "        vertical-align: top;\n",
              "    }\n",
              "\n",
              "    .dataframe thead th {\n",
              "        text-align: right;\n",
              "    }\n",
              "</style>\n",
              "<table border=\"1\" class=\"dataframe\">\n",
              "  <thead>\n",
              "    <tr style=\"text-align: right;\">\n",
              "      <th></th>\n",
              "      <th>Restaurant Name</th>\n",
              "      <th>Average Cost for two</th>\n",
              "      <th>Cuisines_encoded</th>\n",
              "    </tr>\n",
              "  </thead>\n",
              "  <tbody>\n",
              "    <tr>\n",
              "      <th>0</th>\n",
              "      <td>3748</td>\n",
              "      <td>1100</td>\n",
              "      <td>920</td>\n",
              "    </tr>\n",
              "    <tr>\n",
              "      <th>1</th>\n",
              "      <td>3172</td>\n",
              "      <td>1200</td>\n",
              "      <td>1111</td>\n",
              "    </tr>\n",
              "    <tr>\n",
              "      <th>2</th>\n",
              "      <td>2896</td>\n",
              "      <td>4000</td>\n",
              "      <td>1671</td>\n",
              "    </tr>\n",
              "    <tr>\n",
              "      <th>3</th>\n",
              "      <td>4707</td>\n",
              "      <td>1500</td>\n",
              "      <td>1126</td>\n",
              "    </tr>\n",
              "    <tr>\n",
              "      <th>4</th>\n",
              "      <td>5523</td>\n",
              "      <td>1500</td>\n",
              "      <td>1122</td>\n",
              "    </tr>\n",
              "  </tbody>\n",
              "</table>\n",
              "</div>\n",
              "    <div class=\"colab-df-buttons\">\n",
              "\n",
              "  <div class=\"colab-df-container\">\n",
              "    <button class=\"colab-df-convert\" onclick=\"convertToInteractive('df-85d6809b-f0a7-4362-9cf0-326d7d7519ce')\"\n",
              "            title=\"Convert this dataframe to an interactive table.\"\n",
              "            style=\"display:none;\">\n",
              "\n",
              "  <svg xmlns=\"http://www.w3.org/2000/svg\" height=\"24px\" viewBox=\"0 -960 960 960\">\n",
              "    <path d=\"M120-120v-720h720v720H120Zm60-500h600v-160H180v160Zm220 220h160v-160H400v160Zm0 220h160v-160H400v160ZM180-400h160v-160H180v160Zm440 0h160v-160H620v160ZM180-180h160v-160H180v160Zm440 0h160v-160H620v160Z\"/>\n",
              "  </svg>\n",
              "    </button>\n",
              "\n",
              "  <style>\n",
              "    .colab-df-container {\n",
              "      display:flex;\n",
              "      gap: 12px;\n",
              "    }\n",
              "\n",
              "    .colab-df-convert {\n",
              "      background-color: #E8F0FE;\n",
              "      border: none;\n",
              "      border-radius: 50%;\n",
              "      cursor: pointer;\n",
              "      display: none;\n",
              "      fill: #1967D2;\n",
              "      height: 32px;\n",
              "      padding: 0 0 0 0;\n",
              "      width: 32px;\n",
              "    }\n",
              "\n",
              "    .colab-df-convert:hover {\n",
              "      background-color: #E2EBFA;\n",
              "      box-shadow: 0px 1px 2px rgba(60, 64, 67, 0.3), 0px 1px 3px 1px rgba(60, 64, 67, 0.15);\n",
              "      fill: #174EA6;\n",
              "    }\n",
              "\n",
              "    .colab-df-buttons div {\n",
              "      margin-bottom: 4px;\n",
              "    }\n",
              "\n",
              "    [theme=dark] .colab-df-convert {\n",
              "      background-color: #3B4455;\n",
              "      fill: #D2E3FC;\n",
              "    }\n",
              "\n",
              "    [theme=dark] .colab-df-convert:hover {\n",
              "      background-color: #434B5C;\n",
              "      box-shadow: 0px 1px 3px 1px rgba(0, 0, 0, 0.15);\n",
              "      filter: drop-shadow(0px 1px 2px rgba(0, 0, 0, 0.3));\n",
              "      fill: #FFFFFF;\n",
              "    }\n",
              "  </style>\n",
              "\n",
              "    <script>\n",
              "      const buttonEl =\n",
              "        document.querySelector('#df-85d6809b-f0a7-4362-9cf0-326d7d7519ce button.colab-df-convert');\n",
              "      buttonEl.style.display =\n",
              "        google.colab.kernel.accessAllowed ? 'block' : 'none';\n",
              "\n",
              "      async function convertToInteractive(key) {\n",
              "        const element = document.querySelector('#df-85d6809b-f0a7-4362-9cf0-326d7d7519ce');\n",
              "        const dataTable =\n",
              "          await google.colab.kernel.invokeFunction('convertToInteractive',\n",
              "                                                    [key], {});\n",
              "        if (!dataTable) return;\n",
              "\n",
              "        const docLinkHtml = 'Like what you see? Visit the ' +\n",
              "          '<a target=\"_blank\" href=https://colab.research.google.com/notebooks/data_table.ipynb>data table notebook</a>'\n",
              "          + ' to learn more about interactive tables.';\n",
              "        element.innerHTML = '';\n",
              "        dataTable['output_type'] = 'display_data';\n",
              "        await google.colab.output.renderOutput(dataTable, element);\n",
              "        const docLink = document.createElement('div');\n",
              "        docLink.innerHTML = docLinkHtml;\n",
              "        element.appendChild(docLink);\n",
              "      }\n",
              "    </script>\n",
              "  </div>\n",
              "\n",
              "\n",
              "<div id=\"df-34af94a5-a820-4556-8308-abef7a6c0896\">\n",
              "  <button class=\"colab-df-quickchart\" onclick=\"quickchart('df-34af94a5-a820-4556-8308-abef7a6c0896')\"\n",
              "            title=\"Suggest charts\"\n",
              "            style=\"display:none;\">\n",
              "\n",
              "<svg xmlns=\"http://www.w3.org/2000/svg\" height=\"24px\"viewBox=\"0 0 24 24\"\n",
              "     width=\"24px\">\n",
              "    <g>\n",
              "        <path d=\"M19 3H5c-1.1 0-2 .9-2 2v14c0 1.1.9 2 2 2h14c1.1 0 2-.9 2-2V5c0-1.1-.9-2-2-2zM9 17H7v-7h2v7zm4 0h-2V7h2v10zm4 0h-2v-4h2v4z\"/>\n",
              "    </g>\n",
              "</svg>\n",
              "  </button>\n",
              "\n",
              "<style>\n",
              "  .colab-df-quickchart {\n",
              "      --bg-color: #E8F0FE;\n",
              "      --fill-color: #1967D2;\n",
              "      --hover-bg-color: #E2EBFA;\n",
              "      --hover-fill-color: #174EA6;\n",
              "      --disabled-fill-color: #AAA;\n",
              "      --disabled-bg-color: #DDD;\n",
              "  }\n",
              "\n",
              "  [theme=dark] .colab-df-quickchart {\n",
              "      --bg-color: #3B4455;\n",
              "      --fill-color: #D2E3FC;\n",
              "      --hover-bg-color: #434B5C;\n",
              "      --hover-fill-color: #FFFFFF;\n",
              "      --disabled-bg-color: #3B4455;\n",
              "      --disabled-fill-color: #666;\n",
              "  }\n",
              "\n",
              "  .colab-df-quickchart {\n",
              "    background-color: var(--bg-color);\n",
              "    border: none;\n",
              "    border-radius: 50%;\n",
              "    cursor: pointer;\n",
              "    display: none;\n",
              "    fill: var(--fill-color);\n",
              "    height: 32px;\n",
              "    padding: 0;\n",
              "    width: 32px;\n",
              "  }\n",
              "\n",
              "  .colab-df-quickchart:hover {\n",
              "    background-color: var(--hover-bg-color);\n",
              "    box-shadow: 0 1px 2px rgba(60, 64, 67, 0.3), 0 1px 3px 1px rgba(60, 64, 67, 0.15);\n",
              "    fill: var(--button-hover-fill-color);\n",
              "  }\n",
              "\n",
              "  .colab-df-quickchart-complete:disabled,\n",
              "  .colab-df-quickchart-complete:disabled:hover {\n",
              "    background-color: var(--disabled-bg-color);\n",
              "    fill: var(--disabled-fill-color);\n",
              "    box-shadow: none;\n",
              "  }\n",
              "\n",
              "  .colab-df-spinner {\n",
              "    border: 2px solid var(--fill-color);\n",
              "    border-color: transparent;\n",
              "    border-bottom-color: var(--fill-color);\n",
              "    animation:\n",
              "      spin 1s steps(1) infinite;\n",
              "  }\n",
              "\n",
              "  @keyframes spin {\n",
              "    0% {\n",
              "      border-color: transparent;\n",
              "      border-bottom-color: var(--fill-color);\n",
              "      border-left-color: var(--fill-color);\n",
              "    }\n",
              "    20% {\n",
              "      border-color: transparent;\n",
              "      border-left-color: var(--fill-color);\n",
              "      border-top-color: var(--fill-color);\n",
              "    }\n",
              "    30% {\n",
              "      border-color: transparent;\n",
              "      border-left-color: var(--fill-color);\n",
              "      border-top-color: var(--fill-color);\n",
              "      border-right-color: var(--fill-color);\n",
              "    }\n",
              "    40% {\n",
              "      border-color: transparent;\n",
              "      border-right-color: var(--fill-color);\n",
              "      border-top-color: var(--fill-color);\n",
              "    }\n",
              "    60% {\n",
              "      border-color: transparent;\n",
              "      border-right-color: var(--fill-color);\n",
              "    }\n",
              "    80% {\n",
              "      border-color: transparent;\n",
              "      border-right-color: var(--fill-color);\n",
              "      border-bottom-color: var(--fill-color);\n",
              "    }\n",
              "    90% {\n",
              "      border-color: transparent;\n",
              "      border-bottom-color: var(--fill-color);\n",
              "    }\n",
              "  }\n",
              "</style>\n",
              "\n",
              "  <script>\n",
              "    async function quickchart(key) {\n",
              "      const quickchartButtonEl =\n",
              "        document.querySelector('#' + key + ' button');\n",
              "      quickchartButtonEl.disabled = true;  // To prevent multiple clicks.\n",
              "      quickchartButtonEl.classList.add('colab-df-spinner');\n",
              "      try {\n",
              "        const charts = await google.colab.kernel.invokeFunction(\n",
              "            'suggestCharts', [key], {});\n",
              "      } catch (error) {\n",
              "        console.error('Error during call to suggestCharts:', error);\n",
              "      }\n",
              "      quickchartButtonEl.classList.remove('colab-df-spinner');\n",
              "      quickchartButtonEl.classList.add('colab-df-quickchart-complete');\n",
              "    }\n",
              "    (() => {\n",
              "      let quickchartButtonEl =\n",
              "        document.querySelector('#df-34af94a5-a820-4556-8308-abef7a6c0896 button');\n",
              "      quickchartButtonEl.style.display =\n",
              "        google.colab.kernel.accessAllowed ? 'block' : 'none';\n",
              "    })();\n",
              "  </script>\n",
              "</div>\n",
              "    </div>\n",
              "  </div>\n"
            ],
            "application/vnd.google.colaboratory.intrinsic+json": {
              "type": "dataframe",
              "variable_name": "data1_processed",
              "summary": "{\n  \"name\": \"data1_processed\",\n  \"rows\": 9551,\n  \"fields\": [\n    {\n      \"column\": \"Restaurant Name\",\n      \"properties\": {\n        \"dtype\": \"number\",\n        \"std\": 2143,\n        \"min\": 0,\n        \"max\": 7445,\n        \"num_unique_values\": 7446,\n        \"samples\": [\n          3637,\n          7022,\n          1772\n        ],\n        \"semantic_type\": \"\",\n        \"description\": \"\"\n      }\n    },\n    {\n      \"column\": \"Average Cost for two\",\n      \"properties\": {\n        \"dtype\": \"number\",\n        \"std\": 16121,\n        \"min\": 0,\n        \"max\": 800000,\n        \"num_unique_values\": 140,\n        \"samples\": [\n          4400,\n          2400,\n          40\n        ],\n        \"semantic_type\": \"\",\n        \"description\": \"\"\n      }\n    },\n    {\n      \"column\": \"Cuisines_encoded\",\n      \"properties\": {\n        \"dtype\": \"number\",\n        \"std\": 514,\n        \"min\": 0,\n        \"max\": 1824,\n        \"num_unique_values\": 1825,\n        \"samples\": [\n          1131,\n          290,\n          881\n        ],\n        \"semantic_type\": \"\",\n        \"description\": \"\"\n      }\n    }\n  ]\n}"
            }
          },
          "metadata": {},
          "execution_count": 27
        }
      ]
    },
    {
      "source": [
        "# @title Restaurant Name vs Average Cost for two\n",
        "\n",
        "from matplotlib import pyplot as plt\n",
        "data1_processed.plot(kind='scatter', x='Restaurant Name', y='Average Cost for two', s=32, alpha=.8)\n",
        "plt.gca().spines[['top', 'right',]].set_visible(False)"
      ],
      "cell_type": "code",
      "execution_count": null,
      "outputs": [
        {
          "output_type": "display_data",
          "data": {
            "text/plain": [
              "<Figure size 640x480 with 1 Axes>"
            ],
            "image/png": "[encoded data removed]"
          },
          "metadata": {}
        }
      ],
      "metadata": {
        "id": "oe-cLAr1h9LJ",
        "colab": {
          "base_uri": "https://localhost:8080/",
          "height": 449
        },
        "outputId": "9d0dfaca-d470-4f56-dc4e-d1e78134fb37"
      }
    },
    {
      "cell_type": "code",
      "source": [
        "data1_processed.isna().sum()"
      ],
      "metadata": {
        "id": "nrdOxVmOSWlZ",
        "colab": {
          "base_uri": "https://localhost:8080/"
        },
        "outputId": "25465ce2-84d6-4e95-94f4-179baa6dcf15"
      },
      "execution_count": null,
      "outputs": [
        {
          "output_type": "execute_result",
          "data": {
            "text/plain": [
              "Restaurant Name         0\n",
              "Average Cost for two    0\n",
              "Cuisines_encoded        0\n",
              "dtype: int64"
            ]
          },
          "metadata": {},
          "execution_count": 29
        }
      ]
    },
    {
      "cell_type": "markdown",
      "source": [
        "2.SPLITTING : TRAINING AND TESTING SET"
      ],
      "metadata": {
        "id": "AqDlUI-oK5PN"
      }
    },
    {
      "cell_type": "code",
      "source": [
        "#class implements the Transformer \"train_test_split\" from sklearn.model_selection class\n",
        "from sklearn.model_selection import train_test_split , GridSearchCV\n",
        "#25% test set and 75% training tests.\n"
      ],
      "metadata": {
        "id": "vrUQrPFPK0go"
      },
      "execution_count": null,
      "outputs": []
    },
    {
      "cell_type": "code",
      "source": [
        "#single target class for each label :\n",
        "X = data1_processed.drop('Cuisines_encoded',axis=1)\n",
        "y = data1_processed['Cuisines_encoded']"
      ],
      "metadata": {
        "id": "oDF4PE9ibSHW"
      },
      "execution_count": null,
      "outputs": []
    },
    {
      "cell_type": "code",
      "source": [
        "#for multi class binary classification\n",
        "#assigning predicator and target variables\n",
        "#separate the features (independent variables) from the target variable.\n",
        "#everything in dataset except the encoded classes used to train the model\n",
        "#X= data1_processed.drop(columns = Multi_encoding.classes_)\n",
        "#y = data1_processed[Multi_encoding.classes_]\n",
        "X_train,X_test, y_train,y_test = train_test_split(X,y,test_size=0.25,random_state=104)\n"
      ],
      "metadata": {
        "id": "fdS-HzcZVW7j"
      },
      "execution_count": null,
      "outputs": []
    },
    {
      "cell_type": "code",
      "source": [
        "print(\"Training set size:\", len(X_train))\n",
        "print(\"Testing set size:\", len(X_test))"
      ],
      "metadata": {
        "id": "Fzq3Z4oYQQb0",
        "colab": {
          "base_uri": "https://localhost:8080/"
        },
        "outputId": "4432ade6-af46-4ee1-ef83-4b3433fe0708"
      },
      "execution_count": null,
      "outputs": [
        {
          "output_type": "stream",
          "name": "stdout",
          "text": [
            "Training set size: 7163\n",
            "Testing set size: 2388\n"
          ]
        }
      ]
    },
    {
      "cell_type": "markdown",
      "source": [
        "# 3.CLASSIFICATION MODEL:"
      ],
      "metadata": {
        "id": "ZZbP0p75RZMx"
      }
    },
    {
      "cell_type": "markdown",
      "source": [
        "As the dataset is big,some good classsification model choices are Random forest and gradient boosting,due ability to handle large dataset with high dimensionality and we have multiple labels here,as Random forest being an ensemble learner that build multiple decisions trees and combines their predictions it leads to  better generalization,I will be **using Random forest**"
      ],
      "metadata": {
        "id": "stDpS3v7SqEr"
      }
    },
    {
      "cell_type": "code",
      "source": [
        "#In a multi-output problem, each sample can have multiple target variables,\n",
        "#and each target variable can have more than one class or continuous value.\n",
        "#here we have multi-label classification problem where each restaurant can have multiple cuisines.\n",
        "#so we use a wrapper like MultiOutputClassifier : in scikit-learn\n",
        "#-allows to use single-output estimators (classifiers or regressors) for multi-output problems.\n"
      ],
      "metadata": {
        "id": "-9T_5TPfbU9m"
      },
      "execution_count": null,
      "outputs": []
    },
    {
      "cell_type": "code",
      "source": [
        "#from sklearn.multioutput import MultiOutputClassifier\n",
        "from sklearn.ensemble import RandomForestClassifier\n",
        "#initialising classifier\n",
        "#keeping the no_of_tree = 100 to keep balance b/w avoiding overfiting and better generalization\n",
        "rf_classifier = RandomForestClassifier(n_estimators=200, max_depth=20, min_samples_split=5, random_state=42)\n",
        "#training the RF algo on training data :#for single lable output\n",
        "rf_classifier.fit(X_train,y_train)\n",
        "#estimator : rf :  single-output estimator used for each output separately & #-1 will use all available CPU cores and fasten the process\n",
        "#multi_target_rf = MultiOutputClassifier(rf_classifier, n_jobs = -1)\n",
        "#training the multiple output classifier :\n",
        "#multi_target_rf.fit(X_train,y_train)"
      ],
      "metadata": {
        "id": "5sXCusNjRX2g",
        "colab": {
          "base_uri": "https://localhost:8080/",
          "height": 91
        },
        "outputId": "9af405b4-43ee-4d2c-a191-21741efa28e2"
      },
      "execution_count": null,
      "outputs": [
        {
          "output_type": "execute_result",
          "data": {
            "text/plain": [
              "RandomForestClassifier(max_depth=20, min_samples_split=5, n_estimators=200,\n",
              "                       random_state=42)"
            ],
            "text/html": [
              "<style>#sk-container-id-1 {color: black;background-color: white;}#sk-container-id-1 pre{padding: 0;}#sk-container-id-1 div.sk-toggleable {background-color: white;}#sk-container-id-1 label.sk-toggleable__label {cursor: pointer;display: block;width: 100%;margin-bottom: 0;padding: 0.3em;box-sizing: border-box;text-align: center;}#sk-container-id-1 label.sk-toggleable__label-arrow:before {content: \"▸\";float: left;margin-right: 0.25em;color: #696969;}#sk-container-id-1 label.sk-toggleable__label-arrow:hover:before {color: black;}#sk-container-id-1 div.sk-estimator:hover label.sk-toggleable__label-arrow:before {color: black;}#sk-container-id-1 div.sk-toggleable__content {max-height: 0;max-width: 0;overflow: hidden;text-align: left;background-color: #f0f8ff;}#sk-container-id-1 div.sk-toggleable__content pre {margin: 0.2em;color: black;border-radius: 0.25em;background-color: #f0f8ff;}#sk-container-id-1 input.sk-toggleable__control:checked~div.sk-toggleable__content {max-height: 200px;max-width: 100%;overflow: auto;}#sk-container-id-1 input.sk-toggleable__control:checked~label.sk-toggleable__label-arrow:before {content: \"▾\";}#sk-container-id-1 div.sk-estimator input.sk-toggleable__control:checked~label.sk-toggleable__label {background-color: #d4ebff;}#sk-container-id-1 div.sk-label input.sk-toggleable__control:checked~label.sk-toggleable__label {background-color: #d4ebff;}#sk-container-id-1 input.sk-hidden--visually {border: 0;clip: rect(1px 1px 1px 1px);clip: rect(1px, 1px, 1px, 1px);height: 1px;margin: -1px;overflow: hidden;padding: 0;position: absolute;width: 1px;}#sk-container-id-1 div.sk-estimator {font-family: monospace;background-color: #f0f8ff;border: 1px dotted black;border-radius: 0.25em;box-sizing: border-box;margin-bottom: 0.5em;}#sk-container-id-1 div.sk-estimator:hover {background-color: #d4ebff;}#sk-container-id-1 div.sk-parallel-item::after {content: \"\";width: 100%;border-bottom: 1px solid gray;flex-grow: 1;}#sk-container-id-1 div.sk-label:hover label.sk-toggleable__label {background-color: #d4ebff;}#sk-container-id-1 div.sk-serial::before {content: \"\";position: absolute;border-left: 1px solid gray;box-sizing: border-box;top: 0;bottom: 0;left: 50%;z-index: 0;}#sk-container-id-1 div.sk-serial {display: flex;flex-direction: column;align-items: center;background-color: white;padding-right: 0.2em;padding-left: 0.2em;position: relative;}#sk-container-id-1 div.sk-item {position: relative;z-index: 1;}#sk-container-id-1 div.sk-parallel {display: flex;align-items: stretch;justify-content: center;background-color: white;position: relative;}#sk-container-id-1 div.sk-item::before, #sk-container-id-1 div.sk-parallel-item::before {content: \"\";position: absolute;border-left: 1px solid gray;box-sizing: border-box;top: 0;bottom: 0;left: 50%;z-index: -1;}#sk-container-id-1 div.sk-parallel-item {display: flex;flex-direction: column;z-index: 1;position: relative;background-color: white;}#sk-container-id-1 div.sk-parallel-item:first-child::after {align-self: flex-end;width: 50%;}#sk-container-id-1 div.sk-parallel-item:last-child::after {align-self: flex-start;width: 50%;}#sk-container-id-1 div.sk-parallel-item:only-child::after {width: 0;}#sk-container-id-1 div.sk-dashed-wrapped {border: 1px dashed gray;margin: 0 0.4em 0.5em 0.4em;box-sizing: border-box;padding-bottom: 0.4em;background-color: white;}#sk-container-id-1 div.sk-label label {font-family: monospace;font-weight: bold;display: inline-block;line-height: 1.2em;}#sk-container-id-1 div.sk-label-container {text-align: center;}#sk-container-id-1 div.sk-container {/* jupyter's `normalize.less` sets `[hidden] { display: none; }` but bootstrap.min.css set `[hidden] { display: none !important; }` so we also need the `!important` here to be able to override the default hidden behavior on the sphinx rendered scikit-learn.org. See: https://github.com/scikit-learn/scikit-learn/issues/21755 */display: inline-block !important;position: relative;}#sk-container-id-1 div.sk-text-repr-fallback {display: none;}</style><div id=\"sk-container-id-1\" class=\"sk-top-container\"><div class=\"sk-text-repr-fallback\"><pre>RandomForestClassifier(max_depth=20, min_samples_split=5, n_estimators=200,\n",
              "                       random_state=42)</pre><b>In a Jupyter environment, please rerun this cell to show the HTML representation or trust the notebook. <br />On GitHub, the HTML representation is unable to render, please try loading this page with nbviewer.org.</b></div><div class=\"sk-container\" hidden><div class=\"sk-item\"><div class=\"sk-estimator sk-toggleable\"><input class=\"sk-toggleable__control sk-hidden--visually\" id=\"sk-estimator-id-1\" type=\"checkbox\" checked><label for=\"sk-estimator-id-1\" class=\"sk-toggleable__label sk-toggleable__label-arrow\">RandomForestClassifier</label><div class=\"sk-toggleable__content\"><pre>RandomForestClassifier(max_depth=20, min_samples_split=5, n_estimators=200,\n",
              "                       random_state=42)</pre></div></div></div></div></div>"
            ]
          },
          "metadata": {},
          "execution_count": 35
        }
      ]
    },
    {
      "cell_type": "code",
      "source": [
        "y_pred = rf_classifier.predict(X_test)"
      ],
      "metadata": {
        "id": "OJ5aefKF_1YB"
      },
      "execution_count": null,
      "outputs": []
    },
    {
      "cell_type": "markdown",
      "source": [
        "4 **PERFORMANCE MEASURE** : checking missclassification error metrics(accuracy,precision,recall)"
      ],
      "metadata": {
        "id": "4QqH8M3bvJiv"
      }
    },
    {
      "cell_type": "code",
      "source": [
        "from sklearn.metrics import accuracy_score , precision_score , recall_score,f1_score"
      ],
      "metadata": {
        "id": "98JqD0NnvkWD"
      },
      "execution_count": null,
      "outputs": []
    },
    {
      "cell_type": "code",
      "source": [
        "#accuracy\n",
        "accuracy = accuracy_score(y_pred,y_test)\n",
        "print(\"accuracy : \",accuracy)"
      ],
      "metadata": {
        "id": "4ow0NZYkv4Og",
        "colab": {
          "base_uri": "https://localhost:8080/"
        },
        "outputId": "75594c18-7f17-4995-d3c7-806dcb38c634"
      },
      "execution_count": null,
      "outputs": [
        {
          "output_type": "stream",
          "name": "stdout",
          "text": [
            "accuracy :  0.23534338358458962\n"
          ]
        }
      ]
    },
    {
      "cell_type": "code",
      "source": [
        "#precision\n",
        "precision = precision_score(y_pred,y_test,average='weighted')\n",
        "print(\"precision : \",precision)\n"
      ],
      "metadata": {
        "id": "pZFoD7wyw9vS",
        "colab": {
          "base_uri": "https://localhost:8080/"
        },
        "outputId": "2bd8365c-b8ff-4448-b16d-d9f72004d874"
      },
      "execution_count": null,
      "outputs": [
        {
          "output_type": "stream",
          "name": "stdout",
          "text": [
            "precision :  0.28869241762772735\n"
          ]
        },
        {
          "output_type": "stream",
          "name": "stderr",
          "text": [
            "/usr/local/lib/python3.10/dist-packages/sklearn/metrics/_classification.py:1344: UndefinedMetricWarning: Precision is ill-defined and being set to 0.0 in labels with no predicted samples. Use `zero_division` parameter to control this behavior.\n",
            "  _warn_prf(average, modifier, msg_start, len(result))\n"
          ]
        }
      ]
    },
    {
      "cell_type": "code",
      "source": [
        "#recall\n",
        "recall = recall_score(y_pred,y_test,average='weighted')\n",
        "print(\"recall : \",recall)"
      ],
      "metadata": {
        "id": "dCF6Ucwtk3U9",
        "colab": {
          "base_uri": "https://localhost:8080/"
        },
        "outputId": "1c61e5ae-22c4-4606-d7e0-5ae70628c078"
      },
      "execution_count": null,
      "outputs": [
        {
          "output_type": "stream",
          "name": "stdout",
          "text": [
            "recall :  0.23534338358458962\n"
          ]
        },
        {
          "output_type": "stream",
          "name": "stderr",
          "text": [
            "/usr/local/lib/python3.10/dist-packages/sklearn/metrics/_classification.py:1344: UndefinedMetricWarning: Recall is ill-defined and being set to 0.0 in labels with no true samples. Use `zero_division` parameter to control this behavior.\n",
            "  _warn_prf(average, modifier, msg_start, len(result))\n"
          ]
        }
      ]
    },
    {
      "cell_type": "code",
      "source": [
        "f1 = f1_score(y_test, y_pred, average='weighted')\n",
        "print(\"f1_score : \",f1)"
      ],
      "metadata": {
        "id": "0fHhdADtpwsD",
        "colab": {
          "base_uri": "https://localhost:8080/"
        },
        "outputId": "d99b3d30-767b-4576-c39c-3111c99841bc"
      },
      "execution_count": null,
      "outputs": [
        {
          "output_type": "stream",
          "name": "stdout",
          "text": [
            "f1_score :  0.21797806736063233\n"
          ]
        }
      ]
    },
    {
      "cell_type": "markdown",
      "source": [
        "5)ANALYZING performance"
      ],
      "metadata": {
        "id": "FcIoRSgqprSA"
      }
    },
    {
      "cell_type": "code",
      "source": [
        "performance_by_cuisine = {'Accuracy': accuracy, 'Precision': precision, 'Recall': recall, 'F1-score': f1}\n",
        "import matplotlib.pyplot as plt\n"
      ],
      "metadata": {
        "id": "sRhJqkP-pquj"
      },
      "execution_count": null,
      "outputs": []
    },
    {
      "cell_type": "code",
      "source": [
        "performance_df = pd.DataFrame.from_dict(performance_by_cuisine, orient='index')"
      ],
      "metadata": {
        "id": "bYfT-IDQseGC"
      },
      "execution_count": null,
      "outputs": []
    },
    {
      "cell_type": "code",
      "source": [
        "# Plot performance metrics\n",
        "plt.figure(figsize=(10, 6))\n",
        "performance_df.plot(kind='bar', figsize=(10, 6))\n",
        "plt.title(\"Model Performance by Cuisine\")\n",
        "plt.xlabel(\"Cuisine\")\n",
        "plt.ylabel(\"Score\")\n",
        "plt.xticks(rotation=45)\n",
        "plt.legend(loc='upper right')\n",
        "plt.tight_layout()\n",
        "plt.show()"
      ],
      "metadata": {
        "id": "ywCKYuGWskiP",
        "colab": {
          "base_uri": "https://localhost:8080/",
          "height": 624
        },
        "outputId": "f1be8197-9b9f-4218-dbc6-bed07143dd27"
      },
      "execution_count": null,
      "outputs": [
        {
          "output_type": "display_data",
          "data": {
            "text/plain": [
              "<Figure size 1000x600 with 0 Axes>"
            ]
          },
          "metadata": {}
        },
        {
          "output_type": "display_data",
          "data": {
            "text/plain": [
              "<Figure size 1000x600 with 1 Axes>"
            ],
            "image/png": "[encoded data removed]"
          },
          "metadata": {}
        }
      ]
    },
    {
      "cell_type": "markdown",
      "source": [
        "4.2 Optimize accuracy"
      ],
      "metadata": {
        "id": "ULUyWHgn0QKu"
      }
    },
    {
      "cell_type": "code",
      "source": [
        "#to enhance accuracy :\n",
        "#hyperparameter tuning and model selection using GridSearchCV :\n",
        "from sklearn.model_selection import RandomizedSearchCV\n",
        "from sklearn.preprocessing import StandardScaler\n",
        "from sklearn.pipeline import Pipeline\n"
      ],
      "metadata": {
        "id": "J8zpYO3by8V7"
      },
      "execution_count": null,
      "outputs": []
    },
    {
      "cell_type": "code",
      "source": [
        "#pipeline is a sequence of data processing steps chained together\n",
        "pipeline = Pipeline([\n",
        "    ('scaler', StandardScaler()),\n",
        "    ('classifier', RandomForestClassifier())\n",
        "])\n",
        "#Standardization : a preprocessing transformer that standardizes features by removing the mean and scaling to unit variance."
      ],
      "metadata": {
        "id": "daUKNYoVzPQa"
      },
      "execution_count": null,
      "outputs": []
    },
    {
      "cell_type": "code",
      "source": [
        "# Define hyperparameters to tune # -- : represents we are tuning prameters for step 2 classifier model of pipeline\n",
        "param_distri = {\n",
        "    'classifier__n_estimators': [100, 200, 300],\n",
        "    'classifier__max_depth': [None, 10, 20],\n",
        "    'classifier__min_samples_split': [2, 5, 10]\n",
        "}"
      ],
      "metadata": {
        "id": "aOR_bRLe0VrS"
      },
      "execution_count": null,
      "outputs": []
    },
    {
      "cell_type": "code",
      "source": [
        "# Perform randomized search cross-validation\n",
        "random_search = RandomizedSearchCV(pipeline, param_distri, n_iter=10, cv=2, scoring='accuracy', random_state=42)\n",
        "random_search.fit(X_train, y_train)"
      ],
      "metadata": {
        "id": "KuwXf7C81Wq5",
        "colab": {
          "base_uri": "https://localhost:8080/",
          "height": 205
        },
        "outputId": "07a39308-08d1-4a53-e0f7-16ce6983c0bc"
      },
      "execution_count": null,
      "outputs": [
        {
          "output_type": "stream",
          "name": "stderr",
          "text": [
            "/usr/local/lib/python3.10/dist-packages/sklearn/model_selection/_split.py:700: UserWarning: The least populated class in y has only 1 members, which is less than n_splits=2.\n",
            "  warnings.warn(\n"
          ]
        },
        {
          "output_type": "execute_result",
          "data": {
            "text/plain": [
              "RandomizedSearchCV(cv=2,\n",
              "                   estimator=Pipeline(steps=[('scaler', StandardScaler()),\n",
              "                                             ('classifier',\n",
              "                                              RandomForestClassifier())]),\n",
              "                   param_distributions={'classifier__max_depth': [None, 10, 20],\n",
              "                                        'classifier__min_samples_split': [2, 5,\n",
              "                                                                          10],\n",
              "                                        'classifier__n_estimators': [100, 200,\n",
              "                                                                     300]},\n",
              "                   random_state=42, scoring='accuracy')"
            ],
            "text/html": [
              "<style>#sk-container-id-2 {color: black;background-color: white;}#sk-container-id-2 pre{padding: 0;}#sk-container-id-2 div.sk-toggleable {background-color: white;}#sk-container-id-2 label.sk-toggleable__label {cursor: pointer;display: block;width: 100%;margin-bottom: 0;padding: 0.3em;box-sizing: border-box;text-align: center;}#sk-container-id-2 label.sk-toggleable__label-arrow:before {content: \"▸\";float: left;margin-right: 0.25em;color: #696969;}#sk-container-id-2 label.sk-toggleable__label-arrow:hover:before {color: black;}#sk-container-id-2 div.sk-estimator:hover label.sk-toggleable__label-arrow:before {color: black;}#sk-container-id-2 div.sk-toggleable__content {max-height: 0;max-width: 0;overflow: hidden;text-align: left;background-color: #f0f8ff;}#sk-container-id-2 div.sk-toggleable__content pre {margin: 0.2em;color: black;border-radius: 0.25em;background-color: #f0f8ff;}#sk-container-id-2 input.sk-toggleable__control:checked~div.sk-toggleable__content {max-height: 200px;max-width: 100%;overflow: auto;}#sk-container-id-2 input.sk-toggleable__control:checked~label.sk-toggleable__label-arrow:before {content: \"▾\";}#sk-container-id-2 div.sk-estimator input.sk-toggleable__control:checked~label.sk-toggleable__label {background-color: #d4ebff;}#sk-container-id-2 div.sk-label input.sk-toggleable__control:checked~label.sk-toggleable__label {background-color: #d4ebff;}#sk-container-id-2 input.sk-hidden--visually {border: 0;clip: rect(1px 1px 1px 1px);clip: rect(1px, 1px, 1px, 1px);height: 1px;margin: -1px;overflow: hidden;padding: 0;position: absolute;width: 1px;}#sk-container-id-2 div.sk-estimator {font-family: monospace;background-color: #f0f8ff;border: 1px dotted black;border-radius: 0.25em;box-sizing: border-box;margin-bottom: 0.5em;}#sk-container-id-2 div.sk-estimator:hover {background-color: #d4ebff;}#sk-container-id-2 div.sk-parallel-item::after {content: \"\";width: 100%;border-bottom: 1px solid gray;flex-grow: 1;}#sk-container-id-2 div.sk-label:hover label.sk-toggleable__label {background-color: #d4ebff;}#sk-container-id-2 div.sk-serial::before {content: \"\";position: absolute;border-left: 1px solid gray;box-sizing: border-box;top: 0;bottom: 0;left: 50%;z-index: 0;}#sk-container-id-2 div.sk-serial {display: flex;flex-direction: column;align-items: center;background-color: white;padding-right: 0.2em;padding-left: 0.2em;position: relative;}#sk-container-id-2 div.sk-item {position: relative;z-index: 1;}#sk-container-id-2 div.sk-parallel {display: flex;align-items: stretch;justify-content: center;background-color: white;position: relative;}#sk-container-id-2 div.sk-item::before, #sk-container-id-2 div.sk-parallel-item::before {content: \"\";position: absolute;border-left: 1px solid gray;box-sizing: border-box;top: 0;bottom: 0;left: 50%;z-index: -1;}#sk-container-id-2 div.sk-parallel-item {display: flex;flex-direction: column;z-index: 1;position: relative;background-color: white;}#sk-container-id-2 div.sk-parallel-item:first-child::after {align-self: flex-end;width: 50%;}#sk-container-id-2 div.sk-parallel-item:last-child::after {align-self: flex-start;width: 50%;}#sk-container-id-2 div.sk-parallel-item:only-child::after {width: 0;}#sk-container-id-2 div.sk-dashed-wrapped {border: 1px dashed gray;margin: 0 0.4em 0.5em 0.4em;box-sizing: border-box;padding-bottom: 0.4em;background-color: white;}#sk-container-id-2 div.sk-label label {font-family: monospace;font-weight: bold;display: inline-block;line-height: 1.2em;}#sk-container-id-2 div.sk-label-container {text-align: center;}#sk-container-id-2 div.sk-container {/* jupyter's `normalize.less` sets `[hidden] { display: none; }` but bootstrap.min.css set `[hidden] { display: none !important; }` so we also need the `!important` here to be able to override the default hidden behavior on the sphinx rendered scikit-learn.org. See: https://github.com/scikit-learn/scikit-learn/issues/21755 */display: inline-block !important;position: relative;}#sk-container-id-2 div.sk-text-repr-fallback {display: none;}</style><div id=\"sk-container-id-2\" class=\"sk-top-container\"><div class=\"sk-text-repr-fallback\"><pre>RandomizedSearchCV(cv=2,\n",
              "                   estimator=Pipeline(steps=[(&#x27;scaler&#x27;, StandardScaler()),\n",
              "                                             (&#x27;classifier&#x27;,\n",
              "                                              RandomForestClassifier())]),\n",
              "                   param_distributions={&#x27;classifier__max_depth&#x27;: [None, 10, 20],\n",
              "                                        &#x27;classifier__min_samples_split&#x27;: [2, 5,\n",
              "                                                                          10],\n",
              "                                        &#x27;classifier__n_estimators&#x27;: [100, 200,\n",
              "                                                                     300]},\n",
              "                   random_state=42, scoring=&#x27;accuracy&#x27;)</pre><b>In a Jupyter environment, please rerun this cell to show the HTML representation or trust the notebook. <br />On GitHub, the HTML representation is unable to render, please try loading this page with nbviewer.org.</b></div><div class=\"sk-container\" hidden><div class=\"sk-item sk-dashed-wrapped\"><div class=\"sk-label-container\"><div class=\"sk-label sk-toggleable\"><input class=\"sk-toggleable__control sk-hidden--visually\" id=\"sk-estimator-id-2\" type=\"checkbox\" ><label for=\"sk-estimator-id-2\" class=\"sk-toggleable__label sk-toggleable__label-arrow\">RandomizedSearchCV</label><div class=\"sk-toggleable__content\"><pre>RandomizedSearchCV(cv=2,\n",
              "                   estimator=Pipeline(steps=[(&#x27;scaler&#x27;, StandardScaler()),\n",
              "                                             (&#x27;classifier&#x27;,\n",
              "                                              RandomForestClassifier())]),\n",
              "                   param_distributions={&#x27;classifier__max_depth&#x27;: [None, 10, 20],\n",
              "                                        &#x27;classifier__min_samples_split&#x27;: [2, 5,\n",
              "                                                                          10],\n",
              "                                        &#x27;classifier__n_estimators&#x27;: [100, 200,\n",
              "                                                                     300]},\n",
              "                   random_state=42, scoring=&#x27;accuracy&#x27;)</pre></div></div></div><div class=\"sk-parallel\"><div class=\"sk-parallel-item\"><div class=\"sk-item\"><div class=\"sk-label-container\"><div class=\"sk-label sk-toggleable\"><input class=\"sk-toggleable__control sk-hidden--visually\" id=\"sk-estimator-id-3\" type=\"checkbox\" ><label for=\"sk-estimator-id-3\" class=\"sk-toggleable__label sk-toggleable__label-arrow\">estimator: Pipeline</label><div class=\"sk-toggleable__content\"><pre>Pipeline(steps=[(&#x27;scaler&#x27;, StandardScaler()),\n",
              "                (&#x27;classifier&#x27;, RandomForestClassifier())])</pre></div></div></div><div class=\"sk-serial\"><div class=\"sk-item\"><div class=\"sk-serial\"><div class=\"sk-item\"><div class=\"sk-estimator sk-toggleable\"><input class=\"sk-toggleable__control sk-hidden--visually\" id=\"sk-estimator-id-4\" type=\"checkbox\" ><label for=\"sk-estimator-id-4\" class=\"sk-toggleable__label sk-toggleable__label-arrow\">StandardScaler</label><div class=\"sk-toggleable__content\"><pre>StandardScaler()</pre></div></div></div><div class=\"sk-item\"><div class=\"sk-estimator sk-toggleable\"><input class=\"sk-toggleable__control sk-hidden--visually\" id=\"sk-estimator-id-5\" type=\"checkbox\" ><label for=\"sk-estimator-id-5\" class=\"sk-toggleable__label sk-toggleable__label-arrow\">RandomForestClassifier</label><div class=\"sk-toggleable__content\"><pre>RandomForestClassifier()</pre></div></div></div></div></div></div></div></div></div></div></div></div>"
            ]
          },
          "metadata": {},
          "execution_count": 49
        }
      ]
    },
    {
      "cell_type": "code",
      "source": [
        "# Best hyperparameters found\n",
        "print(\"Best hyperparameters:\", random_search.best_params_)"
      ],
      "metadata": {
        "id": "Yb2hW2to5yNr",
        "colab": {
          "base_uri": "https://localhost:8080/"
        },
        "outputId": "8a8967c6-fc87-4cd4-bb08-0ecd18931b94"
      },
      "execution_count": null,
      "outputs": [
        {
          "output_type": "stream",
          "name": "stdout",
          "text": [
            "Best hyperparameters: {'classifier__n_estimators': 300, 'classifier__min_samples_split': 2, 'classifier__max_depth': 10}\n"
          ]
        }
      ]
    },
    {
      "cell_type": "code",
      "source": [
        "best_model = random_search.best_estimator_"
      ],
      "metadata": {
        "id": "4-7Ef5I-7Jyk"
      },
      "execution_count": null,
      "outputs": []
    },
    {
      "cell_type": "code",
      "source": [
        "#testing the trained rf_classifier on testing set : X_test and stored in y_pred later to be compared with y_test to measure performance\n",
        "y_pred_o = best_model.predict(X_test)"
      ],
      "metadata": {
        "id": "CDuJZDFswDKA"
      },
      "execution_count": null,
      "outputs": []
    },
    {
      "cell_type": "code",
      "source": [
        "#accuracy:\n",
        "accuracy_o = accuracy_score(y_pred_o,y_test)\n",
        "print(\"accuracy optimized : \",accuracy_o)"
      ],
      "metadata": {
        "id": "6rWbw3FUlY2_",
        "colab": {
          "base_uri": "https://localhost:8080/"
        },
        "outputId": "710bf0f2-fb71-4807-809a-bf082ce66391"
      },
      "execution_count": null,
      "outputs": [
        {
          "output_type": "stream",
          "name": "stdout",
          "text": [
            "accuracy optimized :  0.22445561139028475\n"
          ]
        }
      ]
    },
    {
      "cell_type": "markdown",
      "source": [
        "Here we see **precision**  gets optimized from **0.288 to 0.45**"
      ],
      "metadata": {
        "id": "z1PpGTAVtboK"
      }
    },
    {
      "cell_type": "code",
      "source": [
        "precision_o = precision_score(y_pred_o,y_test,average='weighted')\n",
        "print(\"precision_optimized: \",precision_o)"
      ],
      "metadata": {
        "id": "DB44ztJgsyiE",
        "colab": {
          "base_uri": "https://localhost:8080/"
        },
        "outputId": "3cd899ed-68a6-47eb-88e8-26660838c8bc"
      },
      "execution_count": null,
      "outputs": [
        {
          "output_type": "stream",
          "name": "stdout",
          "text": [
            "precision_optimized:  0.4540018164161856\n"
          ]
        },
        {
          "output_type": "stream",
          "name": "stderr",
          "text": [
            "/usr/local/lib/python3.10/dist-packages/sklearn/metrics/_classification.py:1344: UndefinedMetricWarning: Precision is ill-defined and being set to 0.0 in labels with no predicted samples. Use `zero_division` parameter to control this behavior.\n",
            "  _warn_prf(average, modifier, msg_start, len(result))\n"
          ]
        }
      ]
    },
    {
      "cell_type": "code",
      "source": [
        "recall_o = recall_score(y_pred_o,y_test,average='weighted')\n",
        "print(\"recall optimized : \",recall_o)"
      ],
      "metadata": {
        "id": "n_SX-mJht5Et",
        "colab": {
          "base_uri": "https://localhost:8080/"
        },
        "outputId": "22a33156-d4d2-42e9-be97-2406bc4f36db"
      },
      "execution_count": null,
      "outputs": [
        {
          "output_type": "stream",
          "name": "stdout",
          "text": [
            "recall optimized :  0.22445561139028475\n"
          ]
        },
        {
          "output_type": "stream",
          "name": "stderr",
          "text": [
            "/usr/local/lib/python3.10/dist-packages/sklearn/metrics/_classification.py:1344: UndefinedMetricWarning: Recall is ill-defined and being set to 0.0 in labels with no true samples. Use `zero_division` parameter to control this behavior.\n",
            "  _warn_prf(average, modifier, msg_start, len(result))\n"
          ]
        }
      ]
    },
    {
      "cell_type": "code",
      "source": [
        "f1_o = f1_score(y_pred_o,y_test,average='weighted')\n",
        "print(\"F1-SCORE_O : \",f1_o)"
      ],
      "metadata": {
        "id": "247O-gbHuLZu",
        "colab": {
          "base_uri": "https://localhost:8080/"
        },
        "outputId": "6eace58c-5048-463a-cb12-adaa20d71358"
      },
      "execution_count": null,
      "outputs": [
        {
          "output_type": "stream",
          "name": "stdout",
          "text": [
            "F1-SCORE_O :  0.2632846304636753\n"
          ]
        }
      ]
    },
    {
      "cell_type": "markdown",
      "source": [
        "SVM classifier"
      ],
      "metadata": {
        "id": "WRuWx0scOr_O"
      }
    },
    {
      "cell_type": "code",
      "source": [
        "from sklearn.svm import SVC\n",
        "from scipy.stats import reciprocal, uniform\n",
        "\n",
        "svm_classifier = SVC(C=1.0, kernel='rbf', gamma='scale')"
      ],
      "metadata": {
        "id": "buLyR8GlOtvo"
      },
      "execution_count": null,
      "outputs": []
    },
    {
      "cell_type": "code",
      "source": [
        "svm_classifier.fit(X_train, y_train)"
      ],
      "metadata": {
        "id": "GGVNvXCu2e1_"
      },
      "execution_count": null,
      "outputs": []
    },
    {
      "cell_type": "code",
      "source": [
        "y_pred = svm_classifier.predict(X_test)"
      ],
      "metadata": {
        "id": "XPLR7Xus2he4"
      },
      "execution_count": null,
      "outputs": []
    },
    {
      "cell_type": "code",
      "source": [
        "accuracy = accuracy_score(y_test, y_pred)\n",
        "print(\"Accuracy:\", accuracy)"
      ],
      "metadata": {
        "id": "gBc25vUP2jwt",
        "colab": {
          "base_uri": "https://localhost:8080/"
        },
        "outputId": "04b378a4-2861-40ee-dd77-886bc9082a55"
      },
      "execution_count": null,
      "outputs": [
        {
          "output_type": "stream",
          "name": "stdout",
          "text": [
            "Accuracy: 0.09882747068676717\n"
          ]
        }
      ]
    },
    {
      "cell_type": "code",
      "source": [
        "from sklearn.metrics import classification_report\n",
        "print(classification_report(y_test, y_pred))"
      ],
      "metadata": {
        "id": "DZP34Jz12l58",
        "colab": {
          "base_uri": "https://localhost:8080/"
        },
        "outputId": "4ee0ce67-9918-4a02-b257-d98438ff6d5a"
      },
      "execution_count": null,
      "outputs": [
        {
          "output_type": "stream",
          "name": "stdout",
          "text": [
            "              precision    recall  f1-score   support\n",
            "\n",
            "           0       0.00      0.00      0.00         1\n",
            "           1       0.00      0.00      0.00         1\n",
            "           6       0.00      0.00      0.00         6\n",
            "           9       0.00      0.00      0.00         1\n",
            "          11       0.00      0.00      0.00         1\n",
            "          15       0.00      0.00      0.00         1\n",
            "          16       0.00      0.00      0.00         2\n",
            "          19       0.00      0.00      0.00         1\n",
            "          21       0.00      0.00      0.00         1\n",
            "          27       0.00      0.00      0.00         1\n",
            "          29       0.00      0.00      0.00         5\n",
            "          35       0.00      0.00      0.00         1\n",
            "          36       0.00      0.00      0.00         1\n",
            "          41       0.00      0.00      0.00         1\n",
            "          44       0.00      0.00      0.00         1\n",
            "          45       0.00      0.00      0.00         1\n",
            "          46       0.00      0.00      0.00         1\n",
            "          50       0.00      0.00      0.00         1\n",
            "          54       0.00      0.00      0.00         4\n",
            "          55       0.00      0.00      0.00         1\n",
            "          58       0.00      0.00      0.00        19\n",
            "          69       0.00      0.00      0.00         2\n",
            "          76       0.00      0.00      0.00         1\n",
            "          78       0.00      0.00      0.00         1\n",
            "          83       0.00      0.00      0.00         1\n",
            "          85       0.00      0.00      0.00         1\n",
            "          90       0.00      0.00      0.00         1\n",
            "          93       0.00      0.00      0.00         1\n",
            "          98       0.00      0.00      0.00         1\n",
            "         100       0.00      0.00      0.00         2\n",
            "         107       0.00      0.00      0.00         1\n",
            "         115       0.00      0.00      0.00         4\n",
            "         120       0.00      0.00      0.00         1\n",
            "         121       0.00      0.00      0.00         4\n",
            "         124       0.00      0.00      0.00         1\n",
            "         129       0.00      0.00      0.00         1\n",
            "         130       0.00      0.00      0.00         1\n",
            "         133       0.00      0.00      0.00         1\n",
            "         134       0.00      0.00      0.00         1\n",
            "         145       0.00      0.00      0.00         1\n",
            "         146       0.00      0.00      0.00         1\n",
            "         156       0.00      0.00      0.00         1\n",
            "         161       0.00      0.00      0.00         1\n",
            "         162       0.00      0.00      0.00         1\n",
            "         167       0.00      0.00      0.00         1\n",
            "         170       0.00      0.00      0.00         1\n",
            "         172       0.00      0.00      0.00         1\n",
            "         177       0.00      0.00      0.00        65\n",
            "         178       0.00      0.00      0.00         1\n",
            "         181       0.00      0.00      0.00         2\n",
            "         183       0.00      0.00      0.00         2\n",
            "         186       0.00      0.00      0.00        36\n",
            "         188       0.00      0.00      0.00         1\n",
            "         189       0.00      0.00      0.00         2\n",
            "         190       0.00      0.00      0.00         1\n",
            "         191       0.00      0.00      0.00        14\n",
            "         192       0.00      0.00      0.00         1\n",
            "         195       0.00      0.00      0.00         1\n",
            "         196       0.00      0.00      0.00         1\n",
            "         197       0.00      0.00      0.00         1\n",
            "         198       0.00      0.00      0.00         1\n",
            "         199       0.00      0.00      0.00         1\n",
            "         201       0.00      0.00      0.00        41\n",
            "         206       0.00      0.00      0.00         1\n",
            "         211       0.00      0.00      0.00         1\n",
            "         214       0.00      0.00      0.00         1\n",
            "         217       0.00      0.00      0.00         1\n",
            "         220       0.00      0.00      0.00         1\n",
            "         223       0.00      0.00      0.00         2\n",
            "         225       0.00      0.00      0.00         1\n",
            "         226       0.00      0.00      0.00         1\n",
            "         227       0.00      0.00      0.00         1\n",
            "         230       0.00      0.00      0.00         9\n",
            "         232       0.00      0.00      0.00         1\n",
            "         233       0.00      0.00      0.00         7\n",
            "         243       0.00      0.00      0.00        15\n",
            "         249       0.00      0.00      0.00         3\n",
            "         250       0.00      0.00      0.00         1\n",
            "         251       0.00      0.00      0.00         4\n",
            "         253       0.00      0.00      0.00         1\n",
            "         254       0.00      0.00      0.00         1\n",
            "         255       0.00      0.00      0.00         1\n",
            "         256       0.00      0.00      0.00         1\n",
            "         257       0.00      0.00      0.00         3\n",
            "         258       0.00      0.00      0.00         2\n",
            "         268       0.00      0.00      0.00         1\n",
            "         269       0.00      0.00      0.00         1\n",
            "         270       0.00      0.00      0.00         1\n",
            "         273       0.00      0.00      0.00         1\n",
            "         275       0.00      0.00      0.00         1\n",
            "         280       0.00      0.00      0.00         1\n",
            "         284       0.00      0.00      0.00         1\n",
            "         286       0.00      0.00      0.00         1\n",
            "         290       0.00      0.00      0.00         1\n",
            "         291       0.00      0.00      0.00         1\n",
            "         294       0.00      0.00      0.00         1\n",
            "         296       0.00      0.00      0.00         1\n",
            "         297       0.00      0.00      0.00         1\n",
            "         303       0.00      0.00      0.00         1\n",
            "         304       0.00      0.00      0.00         1\n",
            "         307       0.00      0.00      0.00         5\n",
            "         308       0.00      0.00      0.00         1\n",
            "         310       0.00      0.00      0.00         8\n",
            "         311       0.00      0.00      0.00         1\n",
            "         313       0.00      0.00      0.00         1\n",
            "         315       0.00      0.00      0.00         1\n",
            "         317       0.00      0.00      0.00         1\n",
            "         322       0.00      0.00      0.00         1\n",
            "         323       0.00      0.00      0.00         1\n",
            "         325       0.00      0.00      0.00         1\n",
            "         327       0.00      0.00      0.00         1\n",
            "         329       0.00      0.00      0.00         2\n",
            "         331       0.00      0.00      0.00        62\n",
            "         333       0.00      0.00      0.00         1\n",
            "         335       0.00      0.00      0.00         1\n",
            "         338       0.00      0.00      0.00         1\n",
            "         342       0.00      0.00      0.00         1\n",
            "         344       0.00      0.00      0.00         4\n",
            "         346       0.00      0.00      0.00         4\n",
            "         349       0.00      0.00      0.00         1\n",
            "         355       0.00      0.00      0.00         1\n",
            "         356       0.00      0.00      0.00         1\n",
            "         358       0.00      0.00      0.00         3\n",
            "         359       0.00      0.00      0.00         1\n",
            "         361       0.00      0.00      0.00         1\n",
            "         364       0.00      0.00      0.00         1\n",
            "         365       0.00      0.00      0.00         1\n",
            "         366       0.00      0.00      0.00         1\n",
            "         367       0.00      0.00      0.00         1\n",
            "         368       0.00      0.00      0.00         1\n",
            "         370       0.00      0.00      0.00         4\n",
            "         371       0.00      0.00      0.00         2\n",
            "         374       0.00      0.00      0.00         1\n",
            "         376       0.00      0.00      0.00         1\n",
            "         382       0.00      0.00      0.00         1\n",
            "         383       0.00      0.00      0.00         1\n",
            "         386       0.00      0.00      0.00         1\n",
            "         390       0.00      0.00      0.00         1\n",
            "         391       0.00      0.00      0.00         1\n",
            "         394       0.00      0.00      0.00         1\n",
            "         395       0.00      0.00      0.00         1\n",
            "         397       0.00      0.00      0.00         1\n",
            "         398       0.00      0.00      0.00         1\n",
            "         400       0.00      0.00      0.00         4\n",
            "         404       0.00      0.00      0.00         1\n",
            "         406       0.00      0.00      0.00         1\n",
            "         409       0.00      0.00      0.00         1\n",
            "         410       0.00      0.00      0.00         1\n",
            "         412       0.00      0.00      0.00         2\n",
            "         414       0.00      0.00      0.00         1\n",
            "         415       0.00      0.00      0.00         1\n",
            "         416       0.00      0.00      0.00         1\n",
            "         420       0.00      0.00      0.00         3\n",
            "         423       0.00      0.00      0.00         1\n",
            "         424       0.00      0.00      0.00         1\n",
            "         426       0.00      0.00      0.00         3\n",
            "         432       0.00      0.00      0.00         1\n",
            "         433       0.00      0.00      0.00         1\n",
            "         437       0.00      0.00      0.00         1\n",
            "         439       0.00      0.00      0.00         1\n",
            "         441       0.00      0.00      0.00         1\n",
            "         442       0.00      0.00      0.00         1\n",
            "         452       0.00      0.00      0.00         1\n",
            "         455       0.00      0.00      0.00         1\n",
            "         459       0.00      0.00      0.00         1\n",
            "         462       0.00      0.00      0.00         1\n",
            "         465       0.00      0.00      0.00         2\n",
            "         468       0.00      0.00      0.00         1\n",
            "         469       0.00      0.00      0.00         1\n",
            "         472       0.00      0.00      0.00         1\n",
            "         477       0.00      0.00      0.00         1\n",
            "         487       0.00      0.00      0.00         5\n",
            "         492       0.00      0.00      0.00         1\n",
            "         493       0.00      0.00      0.00         1\n",
            "         495       0.00      0.00      0.00         1\n",
            "         496       0.00      0.00      0.00         1\n",
            "         497       0.00      0.00      0.00        97\n",
            "         500       0.00      0.00      0.00         2\n",
            "         506       0.00      0.00      0.00         1\n",
            "         508       0.00      0.00      0.00         1\n",
            "         511       0.00      0.00      0.00         1\n",
            "         512       0.00      0.00      0.00         1\n",
            "         515       0.00      0.00      0.00         1\n",
            "         517       0.00      0.00      0.00         1\n",
            "         518       0.00      0.00      0.00        29\n",
            "         519       0.00      0.00      0.00         1\n",
            "         521       0.00      0.00      0.00         3\n",
            "         522       0.00      0.00      0.00         1\n",
            "         527       0.00      0.00      0.00         1\n",
            "         530       0.00      0.00      0.00         1\n",
            "         537       0.00      0.00      0.00         3\n",
            "         539       0.00      0.00      0.00         1\n",
            "         541       0.00      0.00      0.00         1\n",
            "         543       0.00      0.00      0.00         1\n",
            "         545       0.00      0.00      0.00         1\n",
            "         546       0.00      0.00      0.00         4\n",
            "         549       0.00      0.00      0.00        38\n",
            "         550       0.00      0.00      0.00         1\n",
            "         554       0.00      0.00      0.00         1\n",
            "         555       0.00      0.00      0.00         1\n",
            "         560       0.00      0.00      0.00         1\n",
            "         561       0.00      0.00      0.00         1\n",
            "         564       0.00      0.00      0.00         1\n",
            "         568       0.00      0.00      0.00         3\n",
            "         570       0.00      0.00      0.00         1\n",
            "         573       0.00      0.00      0.00         1\n",
            "         576       0.00      0.00      0.00         2\n",
            "         578       0.00      0.00      0.00         1\n",
            "         582       0.00      0.00      0.00         1\n",
            "         583       0.00      0.00      0.00         2\n",
            "         585       0.00      0.00      0.00         1\n",
            "         588       0.00      0.00      0.00        20\n",
            "         589       0.00      0.00      0.00         1\n",
            "         590       0.00      0.00      0.00         1\n",
            "         595       0.00      0.00      0.00         1\n",
            "         596       0.00      0.00      0.00         1\n",
            "         599       0.00      0.00      0.00         1\n",
            "         600       0.00      0.00      0.00         1\n",
            "         601       0.00      0.00      0.00         1\n",
            "         607       0.00      0.00      0.00         1\n",
            "         610       0.00      0.00      0.00         4\n",
            "         612       0.00      0.00      0.00         1\n",
            "         614       0.00      0.00      0.00         1\n",
            "         616       0.00      0.00      0.00         1\n",
            "         618       0.00      0.00      0.00         1\n",
            "         623       0.00      0.00      0.00         1\n",
            "         624       0.00      0.00      0.00         1\n",
            "         625       0.00      0.00      0.00         7\n",
            "         627       0.00      0.00      0.00         1\n",
            "         630       0.00      0.00      0.00         1\n",
            "         637       0.00      0.00      0.00         1\n",
            "         639       0.00      0.00      0.00         1\n",
            "         641       0.00      0.00      0.00         1\n",
            "         643       0.00      0.00      0.00         1\n",
            "         655       0.00      0.00      0.00         1\n",
            "         659       0.00      0.00      0.00         1\n",
            "         660       0.00      0.00      0.00         1\n",
            "         662       0.00      0.00      0.00         1\n",
            "         668       0.00      0.00      0.00         1\n",
            "         671       0.00      0.00      0.00         1\n",
            "         672       0.00      0.00      0.00         2\n",
            "         673       0.00      0.00      0.00         1\n",
            "         675       0.00      0.00      0.00         1\n",
            "         676       0.00      0.00      0.00         1\n",
            "         678       0.00      0.00      0.00         1\n",
            "         681       0.00      0.00      0.00         1\n",
            "         682       0.00      0.00      0.00         1\n",
            "         684       0.00      0.00      0.00         3\n",
            "         688       0.00      0.00      0.00         1\n",
            "         693       0.00      0.00      0.00         2\n",
            "         704       0.00      0.00      0.00         1\n",
            "         705       0.00      0.00      0.00         1\n",
            "         707       0.00      0.00      0.00         1\n",
            "         712       0.00      0.00      0.00         2\n",
            "         717       0.00      0.00      0.00         1\n",
            "         719       0.00      0.00      0.00         4\n",
            "         720       0.00      0.00      0.00         1\n",
            "         721       0.00      0.00      0.00         1\n",
            "         722       0.00      0.00      0.00         3\n",
            "         727       0.00      0.00      0.00         1\n",
            "         734       0.00      0.00      0.00         1\n",
            "         736       0.00      0.00      0.00         1\n",
            "         739       0.00      0.00      0.00         1\n",
            "         741       0.00      0.00      0.00         1\n",
            "         744       0.00      0.00      0.00         1\n",
            "         755       0.00      0.00      0.00         1\n",
            "         758       0.00      0.00      0.00         9\n",
            "         760       0.00      0.00      0.00         3\n",
            "         762       0.00      0.00      0.00         1\n",
            "         763       0.00      0.00      0.00         1\n",
            "         765       0.00      0.00      0.00         5\n",
            "         770       0.00      0.00      0.00         3\n",
            "         774       0.00      0.00      0.00         9\n",
            "         775       0.00      0.00      0.00         1\n",
            "         778       0.00      0.00      0.00         1\n",
            "         788       0.00      0.00      0.00         2\n",
            "         791       0.00      0.00      0.00         2\n",
            "         793       0.00      0.00      0.00         1\n",
            "         794       0.00      0.00      0.00         1\n",
            "         795       0.00      0.00      0.00         1\n",
            "         797       0.00      0.00      0.00         1\n",
            "         799       0.00      0.00      0.00         1\n",
            "         802       0.00      0.00      0.00         2\n",
            "         804       0.00      0.00      0.00         3\n",
            "         806       0.00      0.00      0.00         1\n",
            "         807       0.00      0.00      0.00         1\n",
            "         808       0.00      0.00      0.00         1\n",
            "         810       0.00      0.00      0.00         2\n",
            "         813       0.00      0.00      0.00         1\n",
            "         815       0.00      0.00      0.00         1\n",
            "         816       0.00      0.00      0.00         1\n",
            "         818       0.00      0.00      0.00         2\n",
            "         821       0.00      0.00      0.00         1\n",
            "         826       0.00      0.00      0.00         1\n",
            "         828       0.00      0.00      0.00        91\n",
            "         831       0.00      0.00      0.00         1\n",
            "         833       0.00      0.00      0.00         1\n",
            "         834       0.00      0.00      0.00        12\n",
            "         837       0.00      0.00      0.00        16\n",
            "         838       0.00      0.00      0.00         1\n",
            "         841       0.00      0.00      0.00         7\n",
            "         843       0.00      0.00      0.00         1\n",
            "         844       0.00      0.00      0.00         1\n",
            "         846       0.00      0.00      0.00         1\n",
            "         847       0.00      0.00      0.00         1\n",
            "         850       0.00      0.00      0.00         1\n",
            "         851       0.00      0.00      0.00         1\n",
            "         854       0.00      0.00      0.00         3\n",
            "         858       0.00      0.00      0.00         1\n",
            "         865       0.00      0.00      0.00        11\n",
            "         866       0.00      0.00      0.00         1\n",
            "         868       0.00      0.00      0.00         1\n",
            "         871       0.00      0.00      0.00         1\n",
            "         873       0.00      0.00      0.00         1\n",
            "         878       0.00      0.00      0.00         3\n",
            "         882       0.00      0.00      0.00         1\n",
            "         885       0.00      0.00      0.00         1\n",
            "         886       0.00      0.00      0.00         5\n",
            "         887       0.00      0.00      0.00         1\n",
            "         888       0.00      0.00      0.00         1\n",
            "         890       0.00      0.00      0.00         1\n",
            "         891       0.00      0.00      0.00         1\n",
            "         892       0.00      0.00      0.00         1\n",
            "         893       0.00      0.00      0.00         1\n",
            "         894       0.00      0.00      0.00         1\n",
            "         895       0.00      0.00      0.00        11\n",
            "         896       0.00      0.00      0.00         1\n",
            "         897       0.00      0.00      0.00         1\n",
            "         906       0.00      0.00      0.00         1\n",
            "         908       0.00      0.00      0.00         2\n",
            "         909       0.00      0.00      0.00         1\n",
            "         912       0.00      0.00      0.00         1\n",
            "         913       0.00      0.00      0.00         2\n",
            "         915       0.00      0.00      0.00         1\n",
            "         916       0.00      0.00      0.00         1\n",
            "         918       0.00      0.00      0.00         1\n",
            "         924       0.00      0.00      0.00         1\n",
            "         926       0.00      0.00      0.00         1\n",
            "         936       0.00      0.00      0.00         1\n",
            "         941       0.00      0.00      0.00         1\n",
            "         943       0.00      0.00      0.00         1\n",
            "         944       0.00      0.00      0.00         2\n",
            "         946       0.00      0.00      0.00         1\n",
            "         947       0.00      0.00      0.00         1\n",
            "         950       0.00      0.00      0.00         2\n",
            "         951       0.00      0.00      0.00         6\n",
            "         953       0.00      0.00      0.00         1\n",
            "         955       0.00      0.00      0.00         1\n",
            "         957       0.00      0.00      0.00         1\n",
            "         958       0.00      0.00      0.00         2\n",
            "         961       0.00      0.00      0.00         1\n",
            "         966       0.00      0.00      0.00         1\n",
            "         974       0.00      0.00      0.00         1\n",
            "         979       0.00      0.00      0.00         1\n",
            "         982       0.00      0.00      0.00        26\n",
            "         983       0.00      0.00      0.00         1\n",
            "         984       0.00      0.00      0.00         1\n",
            "         985       0.00      0.00      0.00         2\n",
            "         986       0.00      0.00      0.00        23\n",
            "         987       0.00      0.00      0.00         1\n",
            "         992       0.00      0.00      0.00         1\n",
            "         995       0.00      0.00      0.00         4\n",
            "         996       0.00      0.00      0.00         1\n",
            "         997       0.00      0.00      0.00         1\n",
            "        1005       0.00      0.00      0.00         1\n",
            "        1014       0.00      0.00      0.00         1\n",
            "        1020       0.00      0.00      0.00         1\n",
            "        1030       0.00      0.00      0.00         1\n",
            "        1031       0.00      0.00      0.00        16\n",
            "        1035       0.00      0.00      0.00         1\n",
            "        1039       0.00      0.00      0.00         1\n",
            "        1040       0.00      0.00      0.00         2\n",
            "        1044       0.00      0.00      0.00         1\n",
            "        1046       0.00      0.00      0.00         1\n",
            "        1050       0.00      0.00      0.00         2\n",
            "        1051       0.00      0.00      0.00         1\n",
            "        1052       0.00      0.00      0.00         1\n",
            "        1061       0.00      0.00      0.00         1\n",
            "        1065       0.00      0.00      0.00         3\n",
            "        1068       0.00      0.00      0.00         1\n",
            "        1071       0.00      0.00      0.00         1\n",
            "        1074       0.00      0.00      0.00         1\n",
            "        1076       0.00      0.00      0.00         1\n",
            "        1078       0.00      0.00      0.00         1\n",
            "        1082       0.00      0.00      0.00         1\n",
            "        1094       0.00      0.00      0.00         1\n",
            "        1098       0.00      0.00      0.00         7\n",
            "        1099       0.00      0.00      0.00         1\n",
            "        1102       0.00      0.00      0.00         4\n",
            "        1104       0.00      0.00      0.00         2\n",
            "        1105       0.00      0.00      0.00         1\n",
            "        1108       0.00      0.00      0.00         1\n",
            "        1109       0.00      0.00      0.00         1\n",
            "        1111       0.00      0.00      0.00         5\n",
            "        1114       0.00      0.00      0.00         1\n",
            "        1116       0.00      0.00      0.00         1\n",
            "        1118       0.00      0.00      0.00         1\n",
            "        1119       0.00      0.00      0.00         1\n",
            "        1120       0.00      0.00      0.00         1\n",
            "        1121       0.00      0.00      0.00         1\n",
            "        1122       0.00      0.00      0.00         2\n",
            "        1125       0.00      0.00      0.00         3\n",
            "        1126       0.00      0.00      0.00         6\n",
            "        1130       0.00      0.00      0.00         1\n",
            "        1131       0.00      0.00      0.00         1\n",
            "        1132       0.00      0.00      0.00         1\n",
            "        1134       0.00      0.00      0.00         1\n",
            "        1135       0.00      0.00      0.00         3\n",
            "        1137       0.00      0.00      0.00         1\n",
            "        1141       0.00      0.00      0.00         1\n",
            "        1142       0.00      0.00      0.00         5\n",
            "        1151       0.00      0.00      0.00         3\n",
            "        1157       0.00      0.00      0.00         1\n",
            "        1161       0.00      0.00      0.00         1\n",
            "        1166       0.00      0.00      0.00         1\n",
            "        1167       0.00      0.00      0.00         1\n",
            "        1168       0.00      0.00      0.00         1\n",
            "        1169       0.00      0.00      0.00         1\n",
            "        1170       0.00      0.00      0.00         2\n",
            "        1173       0.00      0.00      0.00         2\n",
            "        1178       0.00      0.00      0.00         1\n",
            "        1180       0.00      0.00      0.00         1\n",
            "        1181       0.00      0.00      0.00         2\n",
            "        1182       0.00      0.00      0.00         1\n",
            "        1185       0.00      0.00      0.00         3\n",
            "        1189       0.00      0.00      0.00         1\n",
            "        1192       0.00      0.00      0.00         1\n",
            "        1198       0.00      0.00      0.00         1\n",
            "        1199       0.00      0.00      0.00         1\n",
            "        1201       0.00      0.00      0.00         1\n",
            "        1202       0.00      0.00      0.00         2\n",
            "        1203       0.00      0.00      0.00         1\n",
            "        1208       0.00      0.00      0.00         1\n",
            "        1212       0.00      0.00      0.00         4\n",
            "        1213       0.00      0.00      0.00         1\n",
            "        1215       0.00      0.00      0.00         2\n",
            "        1217       0.00      0.00      0.00         1\n",
            "        1218       0.00      0.00      0.00         1\n",
            "        1219       0.00      0.00      0.00         1\n",
            "        1223       0.00      0.00      0.00         1\n",
            "        1225       0.00      0.00      0.00         1\n",
            "        1227       0.00      0.00      0.00         1\n",
            "        1229       0.00      0.00      0.00         1\n",
            "        1235       0.00      0.00      0.00        19\n",
            "        1238       0.00      0.00      0.00         1\n",
            "        1241       0.00      0.00      0.00         1\n",
            "        1244       0.00      0.00      0.00         2\n",
            "        1248       0.00      0.00      0.00         1\n",
            "        1252       0.00      0.00      0.00         1\n",
            "        1255       0.00      0.00      0.00         1\n",
            "        1261       0.00      0.00      0.00         1\n",
            "        1262       0.00      0.00      0.00        25\n",
            "        1263       0.00      0.00      0.00         1\n",
            "        1264       0.00      0.00      0.00         1\n",
            "        1265       0.00      0.00      0.00         2\n",
            "        1268       0.00      0.00      0.00         1\n",
            "        1272       0.00      0.00      0.00         1\n",
            "        1274       0.00      0.00      0.00         1\n",
            "        1275       0.00      0.00      0.00        33\n",
            "        1276       0.00      0.00      0.00         1\n",
            "        1277       0.00      0.00      0.00         4\n",
            "        1278       0.00      0.00      0.00         3\n",
            "        1280       0.00      0.00      0.00         1\n",
            "        1282       0.00      0.00      0.00         2\n",
            "        1287       0.00      0.00      0.00         1\n",
            "        1288       0.00      0.00      0.00        15\n",
            "        1289       0.00      0.00      0.00         1\n",
            "        1290       0.00      0.00      0.00         4\n",
            "        1294       0.00      0.00      0.00         1\n",
            "        1302       0.00      0.00      0.00         1\n",
            "        1305       0.00      0.00      0.00         1\n",
            "        1306       0.10      1.00      0.18       236\n",
            "        1314       0.00      0.00      0.00         1\n",
            "        1318       0.00      0.00      0.00         1\n",
            "        1319       0.00      0.00      0.00         3\n",
            "        1321       0.00      0.00      0.00         7\n",
            "        1323       0.00      0.00      0.00         1\n",
            "        1329       0.00      0.00      0.00       114\n",
            "        1330       0.00      0.00      0.00         1\n",
            "        1333       0.00      0.00      0.00         1\n",
            "        1334       0.00      0.00      0.00        14\n",
            "        1338       0.00      0.00      0.00         2\n",
            "        1342       0.00      0.00      0.00         1\n",
            "        1348       0.00      0.00      0.00        17\n",
            "        1350       0.00      0.00      0.00         1\n",
            "        1353       0.00      0.00      0.00         1\n",
            "        1354       0.00      0.00      0.00         3\n",
            "        1355       0.00      0.00      0.00         2\n",
            "        1356       0.00      0.00      0.00         1\n",
            "        1357       0.00      0.00      0.00         1\n",
            "        1358       0.00      0.00      0.00         1\n",
            "        1360       0.00      0.00      0.00         1\n",
            "        1362       0.00      0.00      0.00         1\n",
            "        1365       0.00      0.00      0.00         1\n",
            "        1366       0.00      0.00      0.00         1\n",
            "        1367       0.00      0.00      0.00         1\n",
            "        1373       0.00      0.00      0.00        22\n",
            "        1374       0.00      0.00      0.00         1\n",
            "        1376       0.00      0.00      0.00         1\n",
            "        1378       0.00      0.00      0.00         1\n",
            "        1379       0.00      0.00      0.00         1\n",
            "        1380       0.00      0.00      0.00         1\n",
            "        1381       0.00      0.00      0.00         9\n",
            "        1384       0.00      0.00      0.00         5\n",
            "        1385       0.00      0.00      0.00         1\n",
            "        1386       0.00      0.00      0.00         1\n",
            "        1394       0.00      0.00      0.00         1\n",
            "        1397       0.00      0.00      0.00         1\n",
            "        1401       0.00      0.00      0.00        11\n",
            "        1402       0.00      0.00      0.00         3\n",
            "        1404       0.00      0.00      0.00         1\n",
            "        1406       0.00      0.00      0.00         5\n",
            "        1409       0.00      0.00      0.00         1\n",
            "        1412       0.00      0.00      0.00         1\n",
            "        1416       0.00      0.00      0.00         1\n",
            "        1418       0.00      0.00      0.00         1\n",
            "        1419       0.00      0.00      0.00         1\n",
            "        1422       0.00      0.00      0.00         4\n",
            "        1427       0.00      0.00      0.00         1\n",
            "        1428       0.00      0.00      0.00         1\n",
            "        1430       0.00      0.00      0.00         1\n",
            "        1431       0.00      0.00      0.00         1\n",
            "        1433       0.00      0.00      0.00         1\n",
            "        1434       0.00      0.00      0.00         1\n",
            "        1437       0.00      0.00      0.00         2\n",
            "        1441       0.00      0.00      0.00         1\n",
            "        1442       0.00      0.00      0.00         1\n",
            "        1444       0.00      0.00      0.00        17\n",
            "        1448       0.00      0.00      0.00         1\n",
            "        1451       0.00      0.00      0.00         1\n",
            "        1458       0.00      0.00      0.00         1\n",
            "        1461       0.00      0.00      0.00         1\n",
            "        1463       0.00      0.00      0.00         1\n",
            "        1467       0.00      0.00      0.00         1\n",
            "        1471       0.00      0.00      0.00         1\n",
            "        1472       0.00      0.00      0.00         1\n",
            "        1485       0.00      0.00      0.00         1\n",
            "        1486       0.00      0.00      0.00         1\n",
            "        1494       0.00      0.00      0.00         2\n",
            "        1495       0.00      0.00      0.00         1\n",
            "        1497       0.00      0.00      0.00         1\n",
            "        1502       0.00      0.00      0.00         1\n",
            "        1505       0.00      0.00      0.00         1\n",
            "        1514       0.00      0.00      0.00        68\n",
            "        1516       0.00      0.00      0.00         1\n",
            "        1517       0.00      0.00      0.00         1\n",
            "        1518       0.00      0.00      0.00         3\n",
            "        1520       0.00      0.00      0.00        45\n",
            "        1521       0.00      0.00      0.00         1\n",
            "        1524       0.00      0.00      0.00         3\n",
            "        1528       0.00      0.00      0.00         1\n",
            "        1529       0.00      0.00      0.00         1\n",
            "        1530       0.00      0.00      0.00         1\n",
            "        1532       0.00      0.00      0.00         1\n",
            "        1542       0.00      0.00      0.00         1\n",
            "        1546       0.00      0.00      0.00         1\n",
            "        1547       0.00      0.00      0.00         1\n",
            "        1552       0.00      0.00      0.00         1\n",
            "        1554       0.00      0.00      0.00        11\n",
            "        1559       0.00      0.00      0.00         9\n",
            "        1560       0.00      0.00      0.00         5\n",
            "        1564       0.00      0.00      0.00         2\n",
            "        1567       0.00      0.00      0.00         1\n",
            "        1569       0.00      0.00      0.00         1\n",
            "        1570       0.00      0.00      0.00         2\n",
            "        1571       0.00      0.00      0.00         2\n",
            "        1573       0.00      0.00      0.00         1\n",
            "        1580       0.00      0.00      0.00         1\n",
            "        1588       0.00      0.00      0.00         1\n",
            "        1590       0.00      0.00      0.00         8\n",
            "        1592       0.00      0.00      0.00         1\n",
            "        1595       0.00      0.00      0.00         1\n",
            "        1597       0.00      0.00      0.00         2\n",
            "        1598       0.00      0.00      0.00         1\n",
            "        1608       0.00      0.00      0.00         1\n",
            "        1609       0.00      0.00      0.00         1\n",
            "        1613       0.00      0.00      0.00         1\n",
            "        1616       0.00      0.00      0.00         1\n",
            "        1617       0.00      0.00      0.00         1\n",
            "        1618       0.00      0.00      0.00         9\n",
            "        1621       0.00      0.00      0.00         1\n",
            "        1622       0.00      0.00      0.00         1\n",
            "        1624       0.00      0.00      0.00         1\n",
            "        1626       0.00      0.00      0.00        42\n",
            "        1628       0.00      0.00      0.00         1\n",
            "        1630       0.00      0.00      0.00         1\n",
            "        1631       0.00      0.00      0.00         7\n",
            "        1633       0.00      0.00      0.00         1\n",
            "        1634       0.00      0.00      0.00         1\n",
            "        1636       0.00      0.00      0.00         1\n",
            "        1638       0.00      0.00      0.00         1\n",
            "        1640       0.00      0.00      0.00         1\n",
            "        1645       0.00      0.00      0.00         2\n",
            "        1646       0.00      0.00      0.00         1\n",
            "        1650       0.00      0.00      0.00        15\n",
            "        1652       0.00      0.00      0.00         2\n",
            "        1655       0.00      0.00      0.00        12\n",
            "        1656       0.00      0.00      0.00         1\n",
            "        1660       0.00      0.00      0.00         1\n",
            "        1666       0.00      0.00      0.00         1\n",
            "        1667       0.00      0.00      0.00         3\n",
            "        1669       0.00      0.00      0.00         1\n",
            "        1683       0.00      0.00      0.00         1\n",
            "        1685       0.00      0.00      0.00         1\n",
            "        1689       0.00      0.00      0.00         1\n",
            "        1692       0.00      0.00      0.00         1\n",
            "        1693       0.00      0.00      0.00         2\n",
            "        1697       0.00      0.00      0.00         1\n",
            "        1699       0.00      0.00      0.00        19\n",
            "        1700       0.00      0.00      0.00         1\n",
            "        1701       0.00      0.00      0.00         1\n",
            "        1703       0.00      0.00      0.00         1\n",
            "        1705       0.00      0.00      0.00         8\n",
            "        1707       0.00      0.00      0.00         1\n",
            "        1708       0.00      0.00      0.00         1\n",
            "        1710       0.00      0.00      0.00         1\n",
            "        1712       0.00      0.00      0.00         1\n",
            "        1713       0.00      0.00      0.00         1\n",
            "        1716       0.00      0.00      0.00         4\n",
            "        1719       0.00      0.00      0.00         1\n",
            "        1720       0.00      0.00      0.00         2\n",
            "        1722       0.00      0.00      0.00         3\n",
            "        1723       0.00      0.00      0.00         7\n",
            "        1724       0.00      0.00      0.00         1\n",
            "        1727       0.00      0.00      0.00         1\n",
            "        1729       0.00      0.00      0.00         1\n",
            "        1735       0.00      0.00      0.00         1\n",
            "        1737       0.00      0.00      0.00         1\n",
            "        1738       0.00      0.00      0.00         1\n",
            "        1743       0.00      0.00      0.00         4\n",
            "        1744       0.00      0.00      0.00         1\n",
            "        1746       0.00      0.00      0.00         1\n",
            "        1747       0.00      0.00      0.00         1\n",
            "        1749       0.00      0.00      0.00        32\n",
            "        1750       0.00      0.00      0.00         1\n",
            "        1752       0.00      0.00      0.00         1\n",
            "        1754       0.00      0.00      0.00         1\n",
            "        1758       0.00      0.00      0.00         1\n",
            "        1761       0.00      0.00      0.00         2\n",
            "        1762       0.00      0.00      0.00         1\n",
            "        1765       0.00      0.00      0.00         3\n",
            "        1766       0.00      0.00      0.00         1\n",
            "        1768       0.00      0.00      0.00         1\n",
            "        1769       0.00      0.00      0.00         2\n",
            "        1770       0.00      0.00      0.00         1\n",
            "        1771       0.00      0.00      0.00         1\n",
            "        1775       0.00      0.00      0.00         1\n",
            "        1776       0.00      0.00      0.00         1\n",
            "        1778       0.00      0.00      0.00         2\n",
            "        1779       0.00      0.00      0.00         3\n",
            "        1781       0.00      0.00      0.00         1\n",
            "        1784       0.00      0.00      0.00         1\n",
            "        1787       0.00      0.00      0.00         2\n",
            "        1789       0.00      0.00      0.00         2\n",
            "        1792       0.00      0.00      0.00         1\n",
            "        1795       0.00      0.00      0.00         6\n",
            "        1796       0.00      0.00      0.00         1\n",
            "        1797       0.00      0.00      0.00         2\n",
            "        1800       0.00      0.00      0.00         1\n",
            "        1801       0.00      0.00      0.00         1\n",
            "        1803       0.00      0.00      0.00         1\n",
            "        1804       0.00      0.00      0.00         1\n",
            "        1806       0.00      0.00      0.00         1\n",
            "        1807       0.00      0.00      0.00         3\n",
            "        1808       0.00      0.00      0.00         1\n",
            "        1819       0.00      0.00      0.00         1\n",
            "        1822       0.00      0.00      0.00         1\n",
            "        1824       0.00      0.00      0.00         1\n",
            "\n",
            "    accuracy                           0.10      2388\n",
            "   macro avg       0.00      0.00      0.00      2388\n",
            "weighted avg       0.01      0.10      0.02      2388\n",
            "\n"
          ]
        },
        {
          "output_type": "stream",
          "name": "stderr",
          "text": [
            "/usr/local/lib/python3.10/dist-packages/sklearn/metrics/_classification.py:1344: UndefinedMetricWarning: Precision and F-score are ill-defined and being set to 0.0 in labels with no predicted samples. Use `zero_division` parameter to control this behavior.\n",
            "  _warn_prf(average, modifier, msg_start, len(result))\n",
            "/usr/local/lib/python3.10/dist-packages/sklearn/metrics/_classification.py:1344: UndefinedMetricWarning: Precision and F-score are ill-defined and being set to 0.0 in labels with no predicted samples. Use `zero_division` parameter to control this behavior.\n",
            "  _warn_prf(average, modifier, msg_start, len(result))\n",
            "/usr/local/lib/python3.10/dist-packages/sklearn/metrics/_classification.py:1344: UndefinedMetricWarning: Precision and F-score are ill-defined and being set to 0.0 in labels with no predicted samples. Use `zero_division` parameter to control this behavior.\n",
            "  _warn_prf(average, modifier, msg_start, len(result))\n"
          ]
        }
      ]
    },
    {
      "cell_type": "markdown",
      "source": [
        "SO , here we can finally conclude our analysis by stating that random forest worked better than SVM in terms of accuracy"
      ],
      "metadata": {
        "id": "H_ZfwyvdLr2a"
      }
    }
  ]
}